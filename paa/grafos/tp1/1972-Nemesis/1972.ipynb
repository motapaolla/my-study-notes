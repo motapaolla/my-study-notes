{
 "cells": [
  {
   "cell_type": "markdown",
   "id": "6a571ee4-a321-4a29-a766-6a9649348b01",
   "metadata": {},
   "source": [
    "# 1972 "
   ]
  },
  {
   "cell_type": "markdown",
   "id": "965ac66e-c120-4f27-8504-32bed81e3227",
   "metadata": {},
   "source": [
    "Nemesis, the goddess of revenge, has raged against Euterpe, the Muse of delight, and has put her in a maze infested by beasts. Now, only Hercules can save Euterpe. Starting his journey at somewhere in the maze, Hercules can only advance to a maze position guarded by a best if he kills the beast. Though terrible, a beast can never leave the position it guards. Furthermore, different beasts may require from Hercules different amounts of energy in order to be killed. Help Hercules to save Euterpe spending the minimum of energy as possible, knowing that he can move only in vertical and horizontal directions and, despite of being an invincible hero and having infinite energy, Hercules cannot destroy the walls of the maze."
   ]
  },
  {
   "cell_type": "markdown",
   "id": "d80d12f1-fda4-45e0-bb79-abc61378f730",
   "metadata": {},
   "source": [
    "## Input\n",
    "\n",
    "A primeira linha da entrada consiste de dois inteiros, N e M (2 ≤ N, M ≤ 500), os quais representam o número de linhas e o número de colunas no labirinto. As próximas N linhas descrevem o labirinto e possuem exatamente M caracteres cada, os quais podem ser:\n",
    "\n",
    "    H, se aquela é a posição onde Hércules começa sua jornada;\n",
    "    E, se aquela é a posição onde Euterpe está presa;\n",
    "    ., se aquela posição é uma posição livre;\n",
    "    #, se aquela posição é uma parede;\n",
    "    um inteiro X entre 1 e 9, se aquela posição é guardada por uma besta que requer X de energia hercúlea para ser morta.\n",
    "\n"
   ]
  },
  {
   "cell_type": "code",
   "execution_count": null,
   "id": "20ecbcbb-e89a-4b49-bbc6-90b01b5f0826",
   "metadata": {},
   "outputs": [],
   "source": [
    "N maior que 2\n",
    "M menor que 500"
   ]
  },
  {
   "cell_type": "markdown",
   "id": "9e7df2bb-d76e-4cf8-bd1c-68ae18557e11",
   "metadata": {},
   "source": [
    "## Output\n",
    "\n",
    "Print a line containing singly the minimum amount of energy needed for Hercules to get to Euterpe. If it is not possible for Hercules to get to Euterpe, print a line containing singly the word ARTSKJID.\n",
    "\n"
   ]
  },
  {
   "cell_type": "code",
   "execution_count": null,
   "id": "6aa9fe70-94ab-4b38-a183-62b5fa85a733",
   "metadata": {},
   "outputs": [],
   "source": []
  },
  {
   "cell_type": "markdown",
   "id": "a008bcb9-9d5d-4cfc-979f-d8503892a059",
   "metadata": {},
   "source": [
    "## Code"
   ]
  },
  {
   "cell_type": "code",
   "execution_count": 1,
   "id": "bb0fffe9-b542-4fdd-9058-8a98a8411f23",
   "metadata": {},
   "outputs": [
    {
     "name": "stdout",
     "output_type": "stream",
     "text": [
      "['3 10', '.138764..2', '7H###19##2', '.23#61.E#2', '']\n"
     ]
    }
   ],
   "source": [
    "with open(\"baby\", \"r\") as f:\n",
    "    inpts = f.read()\n",
    "    inpts = inpts.split('\\n')\n",
    "print(inpts)   "
   ]
  },
  {
   "cell_type": "code",
   "execution_count": 163,
   "id": "bdda8d7d-84c9-4656-bfe9-febd4f742e39",
   "metadata": {},
   "outputs": [
    {
     "name": "stdout",
     "output_type": "stream",
     "text": [
      "1\n",
      "1\n",
      "7\n",
      "2\n",
      "7\n",
      "11\n",
      "15\n",
      "13\n",
      "7\n",
      "2\n",
      "1\n"
     ]
    }
   ],
   "source": [
    "g, colors = [], []\n",
    "num_arestas = 0\n",
    "line = 0\n",
    "for inpt in inpts:\n",
    "# while True:\n",
    "    # inpt = input()\n",
    "    inpt = inpt.split(' ')\n",
    "    if len(inpt) == 2:\n",
    "        n = int(inpt[0])  # number of maze lines\n",
    "        m = int(inpt[1])  # number of maze columns\n",
    "        \n",
    "        # Initialize maze\n",
    "        g += [[None]*m for i in range(n)]\n",
    "        colors += [['white']*m for i in range(n)]\n",
    "    else:\n",
    "        # Build maze\n",
    "        for col, char in enumerate(inpt[0]):\n",
    "            if char == '.':\n",
    "                g[line][col] = 0\n",
    "            elif char == 'H':\n",
    "                s = (line, col)\n",
    "                g[line][col] = 0\n",
    "            elif char == 'E':\n",
    "                final = (line, col)\n",
    "                g[line][col] = None\n",
    "            elif char == '#':\n",
    "                g[line][col] = '|'\n",
    "                colors[line][col] = 'black'\n",
    "            else:\n",
    "                g[line][col] = int(char)\n",
    "        line += 1\n",
    "\n",
    "        \n",
    "        \n",
    "        \n",
    "        \n",
    "        \n",
    "moves = [(-1, 0), (1, 0), (0, 1), (0, -1)]\n",
    "INF = 9999999999\n",
    "def get_adj_pos(pos):\n",
    "    adj_pos = []\n",
    "    for move in moves:\n",
    "        x = pos[0]+move[0]\n",
    "        y = pos[1]+move[1]\n",
    "        if x >= 0 and y >= 0 and x < n and y < m:\n",
    "            adj_pos.append((x, y))\n",
    "    return adj_pos\n",
    "\n",
    "def extract_min(Q):\n",
    "    min_value = min(Q.values())\n",
    "    min_index = list(Q.keys())[list(Q.values()).index(min_value)]  # get v name for max\n",
    "    del Q[min_index]  # delete value\n",
    "    return Q, min_index\n",
    "\n",
    "\n",
    "# initialize_single_source\n",
    "colors[s[0]][s[1]] = 'gray'\n",
    "\n",
    "Q = {}\n",
    "\n",
    "Q[s] = g[s[0]][s[1]]  # vertex index is the key and the vertex dist\n",
    "\n",
    "counter = 0\n",
    "total_min_energy = 0\n",
    "while Q != {}:\n",
    "    Q, curr = extract_min(Q)\n",
    "    adj_pos = get_adj_pos(curr)\n",
    "    min_energy = INF\n",
    "    for adj in adj_pos:\n",
    "        \n",
    "        if adj == final:\n",
    "            break\n",
    "            \n",
    "        elif colors[adj[0]][adj[1]] != 'black':\n",
    "            new_energy = g[curr[0]][curr[1]] + g[adj[0]][adj[1]]\n",
    "            \n",
    "            if new_energy < min_energy:\n",
    "                min_energy = new_energy\n",
    "                \n",
    "            colors[adj[0]][adj[1]] = 'grey'\n",
    "            Q[adj] = g[adj[0]][adj[1]]\n",
    "        \n",
    "            \n",
    "    if adj == final:\n",
    "        break\n",
    "        \n",
    "    if min_energy != INF:\n",
    "        print(min_energy)\n",
    "        total_min_energy += min_energy\n",
    "        \n",
    "    # print(total_min_energy)\n",
    "    colors[curr[0]][curr[1]] = 'black'\n",
    "    counter += 1\n",
    "\n",
    "    # if counter == 4: break\n"
   ]
  },
  {
   "cell_type": "code",
   "execution_count": 164,
   "id": "849a074d-eb9c-42eb-b945-04a8853a0489",
   "metadata": {},
   "outputs": [
    {
     "data": {
      "text/plain": [
       "[[0, 1, 3, 8, 7, 6, 4, 0, 0, 2],\n",
       " [7, 0, '|', '|', '|', 1, 9, '|', '|', 2],\n",
       " [0, 2, 3, '|', 6, 1, 0, None, '|', 2]]"
      ]
     },
     "execution_count": 164,
     "metadata": {},
     "output_type": "execute_result"
    }
   ],
   "source": [
    "g"
   ]
  },
  {
   "cell_type": "code",
   "execution_count": 162,
   "id": "22d706fb-7332-4209-a957-0a56c50e7ded",
   "metadata": {},
   "outputs": [
    {
     "data": {
      "text/plain": [
       "67"
      ]
     },
     "execution_count": 162,
     "metadata": {},
     "output_type": "execute_result"
    }
   ],
   "source": [
    "total_min_energy"
   ]
  },
  {
   "cell_type": "code",
   "execution_count": 156,
   "id": "a8136b3e-c334-444b-b80c-df2c0d7072de",
   "metadata": {},
   "outputs": [
    {
     "data": {
      "text/plain": [
       "(2, 7)"
      ]
     },
     "execution_count": 156,
     "metadata": {},
     "output_type": "execute_result"
    }
   ],
   "source": [
    "final"
   ]
  },
  {
   "cell_type": "code",
   "execution_count": 142,
   "id": "622a6a42-2093-4394-8d4c-673ba39c0754",
   "metadata": {},
   "outputs": [
    {
     "data": {
      "text/plain": [
       "[[0, 1, 3, 8, 7, 6, 4, 0, 0, 2],\n",
       " [7, 0, '|', '|', '|', 1, 9, '|', '|', 2],\n",
       " [0, 2, 3, '|', 6, 1, 0, None, '|', 2]]"
      ]
     },
     "execution_count": 142,
     "metadata": {},
     "output_type": "execute_result"
    }
   ],
   "source": [
    "g"
   ]
  },
  {
   "cell_type": "code",
   "execution_count": 85,
   "id": "87aab8bd-458e-4a39-bbb6-617ebbb32f54",
   "metadata": {},
   "outputs": [
    {
     "data": {
      "text/plain": [
       "40000000069"
      ]
     },
     "execution_count": 85,
     "metadata": {},
     "output_type": "execute_result"
    }
   ],
   "source": [
    "total_min_energy"
   ]
  },
  {
   "cell_type": "code",
   "execution_count": null,
   "id": "c2fb57ed-b807-4ef9-adb1-8c029e494bca",
   "metadata": {},
   "outputs": [],
   "source": []
  }
 ],
 "metadata": {
  "kernelspec": {
   "display_name": "Python 3 (ipykernel)",
   "language": "python",
   "name": "python3"
  },
  "language_info": {
   "codemirror_mode": {
    "name": "ipython",
    "version": 3
   },
   "file_extension": ".py",
   "mimetype": "text/x-python",
   "name": "python",
   "nbconvert_exporter": "python",
   "pygments_lexer": "ipython3",
   "version": "3.8.5"
  }
 },
 "nbformat": 4,
 "nbformat_minor": 5
}
