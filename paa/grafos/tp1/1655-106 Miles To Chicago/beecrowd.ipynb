{
 "cells": [
  {
   "cell_type": "code",
   "execution_count": 47,
   "id": "2df86535",
   "metadata": {
    "execution": {
     "iopub.execute_input": "2022-05-30T23:52:32.968237Z",
     "iopub.status.busy": "2022-05-30T23:52:32.967995Z",
     "iopub.status.idle": "2022-05-30T23:52:32.983032Z",
     "shell.execute_reply": "2022-05-30T23:52:32.982214Z",
     "shell.execute_reply.started": "2022-05-30T23:52:32.968212Z"
    }
   },
   "outputs": [
    {
     "name": "stdout",
     "output_type": "stream",
     "text": [
      "61.200000 percent\n",
      "85.000000 percent\n",
      "68.000000 percent\n"
     ]
    }
   ],
   "source": [
    "def get_adj(g, v):\n",
    "    return list(g[v].keys())\n",
    "\n",
    "def extract_max(Q):\n",
    "    max_value = max(Q.values())\n",
    "    max_index = list(Q.keys())[list(Q.values()).index(max_value)]  # get v name for max\n",
    "    del Q[max_index]  # delete value\n",
    "    return Q, max_index\n",
    "\n",
    "def run():\n",
    "    # initialize_single_source\n",
    "    s = 1  # always starts from 1\n",
    "    colors[s] = 'gray'\n",
    "\n",
    "    Q = {}\n",
    "\n",
    "    Q[s] = dists[s]  # vertex index is the key and the vertex dist\n",
    "\n",
    "    counter = 0\n",
    "    while Q != {}:\n",
    "        Q, curr = extract_max(Q)\n",
    "        adj_list = get_adj(g, curr)\n",
    "        for adj in adj_list:\n",
    "            if colors[adj] != 'black':\n",
    "                new_prob = dists[curr] * g[curr][adj]\n",
    "\n",
    "                if (dists[adj] < new_prob) or (colors[adj] == 'white' and dists[adj] == 1):\n",
    "                    dists[adj] = new_prob\n",
    "                    colors[adj] = 'gray'\n",
    "\n",
    "                Q[adj] = dists[adj]\n",
    "        colors[curr] = 'black'\n",
    "\n",
    "    print(\"{:.6f} percent\".format(dists[n-1]*100))\n",
    "    \n",
    "with open(\"input2\", \"r\") as f:\n",
    "    inpts = f.read()\n",
    "    inpts = inpts.split('\\n')\n",
    "\n",
    "    \n",
    "g = []\n",
    "num_arestas = 0\n",
    "for inpt in inpts:\n",
    "# while True:\n",
    "    # inpt = input()\n",
    "    inpt = inpt.split(' ')\n",
    "    if len(inpt) == 2:\n",
    "        n = int(inpt[0]) + 1  # number of intersections\n",
    "        m = int(inpt[1])  # number of streets\n",
    "        \n",
    "        # Inicializa arestas\n",
    "        g += [{} for i in range(n)]\n",
    "        \n",
    "        # Inicializa vertices\n",
    "        dists = [1]*n\n",
    "        dists[0] = None\n",
    "        colors = ['white']*n\n",
    "        colors[0] = None\n",
    "        \n",
    "    elif len(inpt) == 1:\n",
    "        break\n",
    "        \n",
    "    elif len(inpt) > 2 and num_arestas <= m:\n",
    "        num_arestas += 1\n",
    "        a = int(inpt[0])\n",
    "        b = int(inpt[1])\n",
    "        p = int(inpt[2])/100\n",
    "        g[a][b] = p\n",
    "        g[b][a] = p  # peso e cor\n",
    "    \n",
    "        \n",
    "    if num_arestas == m:\n",
    "        num_arestas = 0\n",
    "        run()\n",
    "        g = []\n"
   ]
  }
 ],
 "metadata": {
  "kernelspec": {
   "display_name": "Python 3 (ipykernel)",
   "language": "python",
   "name": "python3"
  },
  "language_info": {
   "codemirror_mode": {
    "name": "ipython",
    "version": 3
   },
   "file_extension": ".py",
   "mimetype": "text/x-python",
   "name": "python",
   "nbconvert_exporter": "python",
   "pygments_lexer": "ipython3",
   "version": "3.8.5"
  }
 },
 "nbformat": 4,
 "nbformat_minor": 5
}
