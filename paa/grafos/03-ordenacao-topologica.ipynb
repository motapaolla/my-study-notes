{
 "cells": [
  {
   "cell_type": "markdown",
   "id": "d5d404eb-a8f3-43da-bc3d-8fcf327fb6ca",
   "metadata": {},
   "source": [
    "## Ordenação Topologica em DAGS"
   ]
  },
  {
   "cell_type": "markdown",
   "id": "0613699a-73a7-40a4-a427-618c57da7c50",
   "metadata": {},
   "source": [
    "- DAGs são Directed Acyclic Graphs\n",
    "    - São usadas por muitas aplicações para indicar precedencia entre eventos.    \n",
    "- Ordenação topológica de uma dag é o ordenamento linear de todos os seus vertices de tal modo que G contem uma aresta (u, v) em que u aparece antes de v na ordenação. \n",
    "\n",
    "<img src=\"./img/topsort.png\" alt=\"drawing\" width=\"600\"/>\n",
    "\n",
    "- Só é possível fazer esse tipo de ordenação em grafos acíclicos (grafos que não possuem uma back edge, que é uma aresta que volta para um vértice já visitado).\n",
    "- Basicamente colocamos todos os vértices de um grafo na horizontal da esquerda para a direita."
   ]
  },
  {
   "cell_type": "markdown",
   "id": "7cadb8de-4eb8-49af-9897-8b052890e2fb",
   "metadata": {},
   "source": [
    "Existem várias possíveis variações de um ordenamento, ou seja, não necessariamente temos UMA ordem correta.\n",
    "\n",
    "No grafo abaixo temos os seguintes possíveis ordenamentos:\n",
    "\n",
    "  <img src=\"./img/topsort2.png\" alt=\"drawing\" width=\"200\"/>\n",
    "\n",
    "\n",
    "    5, 7, 3, 11, 8, 2, 9, 10 (visual top-to-bottom, left-to-right)\n",
    "    3, 5, 7, 8, 11, 2, 9, 10 (smallest-numbered available vertex first)\n",
    "    5, 7, 3, 8, 11, 10, 9, 2 (fewest edges first)\n",
    "    7, 5, 11, 3, 10, 8, 9, 2 (largest-numbered available vertex first)\n",
    "    5, 7, 11, 2, 3, 8, 9, 10 (attempting top-to-bottom, left-to-right)\n",
    "    3, 7, 8, 5, 11, 10, 2, 9 (arbitrary)"
   ]
  },
  {
   "cell_type": "markdown",
   "id": "5ddc5087-5e2e-4859-b059-40cf0490c703",
   "metadata": {},
   "source": [
    "## Estruturas de dados que vamos usar"
   ]
  },
  {
   "cell_type": "code",
   "execution_count": 5,
   "id": "262c4087-b78e-49f0-bd41-2ef062a22569",
   "metadata": {},
   "outputs": [],
   "source": [
    "class Node:\n",
    "    def __init__(self, value=None):\n",
    "        self.value = value\n",
    "        self.next = None\n",
    "        \n",
    "class LinkedList:\n",
    "    def __init__(self):\n",
    "        self.head = None\n",
    "        \n",
    "    def add_last(self, node):\n",
    "        if self.head is None:\n",
    "            self.head = node\n",
    "            return\n",
    "        for current_node in self:  # traverses the list til the end\n",
    "            pass\n",
    "        current_node.next = node\n",
    "\n",
    "    def add_first(self, node):\n",
    "        node.next = self.head\n",
    "        self.head = node\n",
    "    \n",
    "    def __iter__(self):\n",
    "        node = self.head\n",
    "        while node is not None:\n",
    "            yield node\n",
    "            node = node.next"
   ]
  },
  {
   "cell_type": "code",
   "execution_count": 6,
   "id": "aa82d9d5-aa1c-47d9-83e3-7895c5230925",
   "metadata": {},
   "outputs": [],
   "source": [
    "class Vertex: \n",
    "    def __init__(self, name):\n",
    "        self.name = name\n",
    "        self.adj_list = []\n",
    "        self.f = None\n",
    "        \n",
    "class GraphDirected:\n",
    "    def __init__(self, num_vertices=None):\n",
    "        self.num_vertices = num_vertices\n",
    "        self.nodes = [Vertex(v) for v in range(num_vertices)]\n",
    "               \n",
    "    def add_edge(self, source, dest):\n",
    "        self.nodes[source].adj_list.append(self.nodes[dest])\n",
    "        \n",
    "    def __repr__(self):\n",
    "        for node in self.nodes:\n",
    "            print(f\"Node {node.name} -> {[n.name for n in node.adj_list]}\", end=\"\")\n",
    "            print(\" \\n\")\n",
    "        return \" \""
   ]
  },
  {
   "cell_type": "markdown",
   "id": "7e27dc3a-3693-45bc-a262-9bf20ea8a3f0",
   "metadata": {
    "tags": []
   },
   "source": [
    "## Inicializando o seguinte DAG\n",
    "<img src=\"./img/grafo-directed-unweighted.png\" alt=\"drawing\" width=\"200\"/>"
   ]
  },
  {
   "cell_type": "code",
   "execution_count": 24,
   "id": "7b5eaab5-fc94-4511-b599-a6a645db8b63",
   "metadata": {},
   "outputs": [
    {
     "name": "stdout",
     "output_type": "stream",
     "text": [
      "Node 0 -> [1] \n",
      "\n",
      "Node 1 -> [2, 3] \n",
      "\n",
      "Node 2 -> [4, 5] \n",
      "\n",
      "Node 3 -> [] \n",
      "\n",
      "Node 4 -> [] \n",
      "\n",
      "Node 5 -> [] \n",
      "\n"
     ]
    },
    {
     "data": {
      "text/plain": [
       " "
      ]
     },
     "execution_count": 24,
     "metadata": {},
     "output_type": "execute_result"
    }
   ],
   "source": [
    "g = GraphDirected(6)\n",
    "g.add_edge(0, 1)\n",
    "g.add_edge(1, 2)\n",
    "g.add_edge(1, 3)\n",
    "g.add_edge(2, 4)\n",
    "g.add_edge(2, 5)\n",
    "g"
   ]
  },
  {
   "cell_type": "markdown",
   "id": "cab49f23-7287-43cc-893c-27f535db7b7a",
   "metadata": {},
   "source": [
    "## Código"
   ]
  },
  {
   "cell_type": "markdown",
   "id": "f4c4b5e2-091b-40d7-ae03-e216ef93ed87",
   "metadata": {},
   "source": [
    "Usaremos o DFS que desenvolvemos anteriormente. A diferença agora vai ser a adição de um atributo time `u.f` (adicionamos tb na data structure de grafo acima)."
   ]
  },
  {
   "cell_type": "code",
   "execution_count": 27,
   "id": "d2455a45-d1fd-4ba8-8443-93b2a618ee0e",
   "metadata": {},
   "outputs": [],
   "source": [
    "global time\n",
    "    \n",
    "def topological_sort(G):\n",
    "    for u in G.nodes:\n",
    "        u.color = 'white'\n",
    "        u.pi = None\n",
    "\n",
    "    global time\n",
    "    time = 0\n",
    "    \n",
    "    ll = LinkedList()\n",
    "    print(\"DFS result is:\")\n",
    "    for u in G.nodes:\n",
    "        if u.color == 'white':\n",
    "            ll = DFS_visit(G, u, ll)\n",
    "\n",
    "    print(\"\\n\\nTopological sort:\")\n",
    "    for node in ll:\n",
    "        print(f\"{node.value.name} ->\", end=\" \")\n",
    "    \n",
    "    return ll\n",
    "            \n",
    "def DFS_visit(G, u, ll):\n",
    "    global time\n",
    "    time = time + 1\n",
    "    \n",
    "    u.d = time\n",
    "    u.color = 'gray'\n",
    "    print(f\"{u.name}\", end=\" \")\n",
    "    for v in u.adj_list:\n",
    "        if v.color == 'white':\n",
    "            v.pi = u\n",
    "            DFS_visit(G, v, ll)\n",
    "    time = time + 1\n",
    "    u.f = time\n",
    "    u.color = 'black'\n",
    "    ll.add_first(Node(u))\n",
    "    \n",
    "    return ll"
   ]
  },
  {
   "cell_type": "code",
   "execution_count": 28,
   "id": "d2b61537-3a39-471e-b8ef-d94f45bce159",
   "metadata": {},
   "outputs": [
    {
     "name": "stdout",
     "output_type": "stream",
     "text": [
      "DFS result is:\n",
      "0 1 2 4 5 3 \n",
      "\n",
      "Topological sort:\n",
      "0 -> 1 -> 3 -> 2 -> 5 -> 4 -> "
     ]
    }
   ],
   "source": [
    "linked_list = topological_sort(g)"
   ]
  },
  {
   "cell_type": "markdown",
   "id": "3cd633f8-b863-4766-9ab0-c1b3036b5afe",
   "metadata": {},
   "source": [
    "<img src=\"./img/grafo-directed-unweighted.png\" alt=\"drawing\" width=\"200\"/>"
   ]
  },
  {
   "cell_type": "markdown",
   "id": "b9a550ea-df5c-42cf-b29a-7d600b4b0b4a",
   "metadata": {},
   "source": [
    "## Com outro exemplo"
   ]
  },
  {
   "cell_type": "markdown",
   "id": "35e6e7a2-8512-4c95-a896-3dfb65a0478b",
   "metadata": {},
   "source": [
    "<img src=\"./img/dag2.jpg\" alt=\"drawing\" width=\"400\"/>"
   ]
  },
  {
   "cell_type": "code",
   "execution_count": 29,
   "id": "462510da-8b75-47e4-9c4d-c9b2685f41ae",
   "metadata": {},
   "outputs": [
    {
     "name": "stdout",
     "output_type": "stream",
     "text": [
      "Node 0 -> [1, 2, 3] \n",
      "\n",
      "Node 1 -> [5, 4] \n",
      "\n",
      "Node 2 -> [9, 10] \n",
      "\n",
      "Node 3 -> [8] \n",
      "\n",
      "Node 4 -> [6, 7] \n",
      "\n",
      "Node 5 -> [9, 10] \n",
      "\n",
      "Node 6 -> [8, 9] \n",
      "\n",
      "Node 7 -> [8] \n",
      "\n",
      "Node 8 -> [11] \n",
      "\n",
      "Node 9 -> [11] \n",
      "\n",
      "Node 10 -> [11] \n",
      "\n",
      "Node 11 -> [] \n",
      "\n"
     ]
    },
    {
     "data": {
      "text/plain": [
       " "
      ]
     },
     "execution_count": 29,
     "metadata": {},
     "output_type": "execute_result"
    }
   ],
   "source": [
    "g = GraphDirected(12)\n",
    "g.add_edge(0, 1)\n",
    "g.add_edge(0, 2)\n",
    "g.add_edge(0, 3)\n",
    "g.add_edge(1, 5)\n",
    "g.add_edge(1, 4)\n",
    "g.add_edge(2, 9)\n",
    "g.add_edge(2, 10)\n",
    "g.add_edge(3, 8)\n",
    "g.add_edge(4, 6)\n",
    "g.add_edge(4, 7)\n",
    "g.add_edge(5, 9)\n",
    "g.add_edge(5, 10)\n",
    "g.add_edge(6, 8)\n",
    "g.add_edge(6, 9)\n",
    "g.add_edge(7, 8)\n",
    "g.add_edge(8, 11)\n",
    "g.add_edge(9, 11)\n",
    "g.add_edge(10, 11)\n",
    "g"
   ]
  },
  {
   "cell_type": "code",
   "execution_count": 30,
   "id": "8433f5c1-76b6-4e4a-80cf-465991ad974b",
   "metadata": {},
   "outputs": [
    {
     "name": "stdout",
     "output_type": "stream",
     "text": [
      "DFS result is:\n",
      "0 1 5 9 11 10 4 6 8 7 2 3 \n",
      "\n",
      "Topological sort:\n",
      "0 -> 3 -> 2 -> 1 -> 4 -> 7 -> 6 -> 8 -> 5 -> 10 -> 9 -> 11 -> "
     ]
    }
   ],
   "source": [
    "linked_list = topological_sort(g)"
   ]
  },
  {
   "cell_type": "markdown",
   "id": "c1a984bd-160f-4d05-b71a-c341b50d1382",
   "metadata": {},
   "source": [
    "<img src=\"./img/dag2.jpg\" alt=\"drawing\" width=\"400\"/>"
   ]
  },
  {
   "cell_type": "markdown",
   "id": "2e3c30e6-dcf2-487d-9392-9cda4c6237ab",
   "metadata": {},
   "source": [
    "## Outro exemplo"
   ]
  },
  {
   "cell_type": "code",
   "execution_count": 31,
   "id": "eac886f6-3abe-44f8-adb4-2f8221592e91",
   "metadata": {},
   "outputs": [
    {
     "name": "stdout",
     "output_type": "stream",
     "text": [
      "Node 0 -> [1, 2] \n",
      "\n",
      "Node 1 -> [5, 2] \n",
      "\n",
      "Node 2 -> [3] \n",
      "\n",
      "Node 3 -> [] \n",
      "\n",
      "Node 4 -> [] \n",
      "\n",
      "Node 5 -> [3, 4] \n",
      "\n",
      "Node 6 -> [1, 5] \n",
      "\n"
     ]
    },
    {
     "data": {
      "text/plain": [
       " "
      ]
     },
     "execution_count": 31,
     "metadata": {},
     "output_type": "execute_result"
    }
   ],
   "source": [
    "g = GraphDirected(7)\n",
    "g.add_edge(0, 1)\n",
    "g.add_edge(0, 2)\n",
    "g.add_edge(1, 5)\n",
    "g.add_edge(1, 2)\n",
    "g.add_edge(2, 3)\n",
    "g.add_edge(5, 3)\n",
    "g.add_edge(5, 4)\n",
    "g.add_edge(6, 1)\n",
    "g.add_edge(6, 5)\n",
    "g"
   ]
  },
  {
   "cell_type": "markdown",
   "id": "6a5bfa16-c97e-4da6-a627-4514d3ceebbe",
   "metadata": {},
   "source": [
    "<img src=\"./img/topsort.png\" alt=\"drawing\" width=\"600\"/>"
   ]
  },
  {
   "cell_type": "code",
   "execution_count": 32,
   "id": "f1131cc3-e6bb-4c66-9e6e-824d5f24a2ea",
   "metadata": {},
   "outputs": [
    {
     "name": "stdout",
     "output_type": "stream",
     "text": [
      "DFS result is:\n",
      "0 1 5 3 4 2 6 \n",
      "\n",
      "Topological sort:\n",
      "6 -> 0 -> 1 -> 2 -> 5 -> 4 -> 3 -> "
     ]
    }
   ],
   "source": [
    "linked_list = topological_sort(g)"
   ]
  },
  {
   "cell_type": "markdown",
   "id": "10a7991b-4876-49cc-b906-88d5f0d00f6f",
   "metadata": {},
   "source": [
    "Apesar de não condizer com a imagem, o ordenamento está correto. Enquanto que o outro ordena o numero menor antes, esse ordena de cima para baixo da esquerda para a direita."
   ]
  },
  {
   "cell_type": "code",
   "execution_count": null,
   "id": "0a492418-6465-49d4-9220-7b313ca1e149",
   "metadata": {},
   "outputs": [],
   "source": []
  }
 ],
 "metadata": {
  "kernelspec": {
   "display_name": "Python 3 (ipykernel)",
   "language": "python",
   "name": "python3"
  },
  "language_info": {
   "codemirror_mode": {
    "name": "ipython",
    "version": 3
   },
   "file_extension": ".py",
   "mimetype": "text/x-python",
   "name": "python",
   "nbconvert_exporter": "python",
   "pygments_lexer": "ipython3",
   "version": "3.8.5"
  }
 },
 "nbformat": 4,
 "nbformat_minor": 5
}
