{
 "cells": [
  {
   "cell_type": "markdown",
   "id": "21279e7f-3ef2-449c-99f5-63ee92932566",
   "metadata": {},
   "source": [
    "`22.4-3 3rd edition/20.4-3 4th edition`\n",
    "---\n",
    "\n",
    "Give an algorithm that determines whether or not a given undirected graph G = (V, E) contains a cycle. Your algorithm should run in O(V) time, independent of |E|.\n"
   ]
  },
  {
   "cell_type": "markdown",
   "id": "4cfd0825-3e00-44a2-b159-df2963f221b2",
   "metadata": {},
   "source": [
    "`Resposta`\n",
    "\n",
    "Vai ser um DFS que não possui back edges ref: https://www.geeksforgeeks.org/tree-back-edge-and-cross-edges-in-dfs-of-graph/."
   ]
  },
  {
   "cell_type": "code",
   "execution_count": 13,
   "id": "915fac0e-9685-4fd0-84bf-566b45693f20",
   "metadata": {},
   "outputs": [],
   "source": [
    "class Node:  \n",
    "    def __init__(self, name, color=None, d=None, pi=None):\n",
    "        self.name = name\n",
    "        self.adj_list = []\n",
    "        self.color = color \n",
    "        self.d = d\n",
    "        self.pi = pi  \n",
    "\n",
    "class Graph:\n",
    "    def __init__(self, num_vertices=None, undirected=True):\n",
    "        self.num_vertices = num_vertices\n",
    "        self.nodes = [Node(v) for v in range(num_vertices)]\n",
    "        self.undirected = undirected\n",
    "               \n",
    "    def add_edge(self, source, dest):\n",
    "        self.nodes[source].adj_list.append(self.nodes[dest])\n",
    "        if self.undirected:\n",
    "            self.nodes[dest].adj_list.append(self.nodes[source])\n",
    "        \n",
    "    def print(self):\n",
    "        for node in self.nodes:\n",
    "            print(f\"Node {node.name} -> {[n.name for n in node.adj_list]}\")"
   ]
  },
  {
   "cell_type": "markdown",
   "id": "79e50d0c-d0f5-47d5-8661-082e98c20614",
   "metadata": {},
   "source": [
    "<img src=\"./img/cycle2.png\" alt=\"drawing\" width=\"300\"/>"
   ]
  },
  {
   "cell_type": "code",
   "execution_count": 38,
   "id": "34b62feb-5169-49da-b226-fa7670eec6e8",
   "metadata": {},
   "outputs": [
    {
     "name": "stdout",
     "output_type": "stream",
     "text": [
      "Node 0 -> []\n",
      "Node 1 -> [2, 3]\n",
      "Node 2 -> [1, 3]\n",
      "Node 3 -> [1, 2, 4]\n",
      "Node 4 -> [3]\n"
     ]
    }
   ],
   "source": [
    "g = Graph(5, undirected=True)\n",
    "# g.add_edge(0, 1)\n",
    "# g.add_edge(0, 5)\n",
    "g.add_edge(1, 2)\n",
    "g.add_edge(1, 3)\n",
    "g.add_edge(2, 3)\n",
    "g.add_edge(3, 4)\n",
    "g.print()"
   ]
  },
  {
   "cell_type": "markdown",
   "id": "76551971-c61f-47be-bfff-20336a95740b",
   "metadata": {},
   "source": [
    "Back edges são (1,2), (2,3) ou (1,3)"
   ]
  },
  {
   "cell_type": "markdown",
   "id": "deed030f-f067-486c-a5ea-efaa04aa7da1",
   "metadata": {},
   "source": [
    "Para achar uma back edge, usaremos o DFS."
   ]
  },
  {
   "cell_type": "code",
   "execution_count": 67,
   "id": "96d018eb-d50c-466c-a5da-20e737f80d49",
   "metadata": {},
   "outputs": [],
   "source": [
    "def DFS_stack(g, s):\n",
    "    for u in g.nodes:\n",
    "        u.color = 'white'\n",
    "        u.pi = None\n",
    "    \n",
    "    print(f\"DFS result from vertex {s} is:\")\n",
    "    s = g.nodes[s]\n",
    "    P = [s]\n",
    "    while P != []:\n",
    "        current = P[-1]\n",
    "        if current.color == 'white':\n",
    "            current.color = 'grey'\n",
    "        print(current.name, end=' ')\n",
    "\n",
    "        pop = True\n",
    "        for adjacent in current.adj_list:\n",
    "            if adjacent.color == 'white':\n",
    "                P.append(adjacent)\n",
    "                adjacent.pi = current\n",
    "                adjacent.color = 'grey'\n",
    "                pop = False\n",
    "                break\n",
    "\n",
    "        if pop:  # only pops when all adjacent were visited\n",
    "            P.pop()\n"
   ]
  },
  {
   "cell_type": "markdown",
   "id": "4846509e-af66-4500-814e-f86313bba791",
   "metadata": {},
   "source": [
    "Mas alteramos umas coisinhas."
   ]
  },
  {
   "cell_type": "code",
   "execution_count": 141,
   "id": "bb9cb127-85af-45f8-a82e-46f7e5030d16",
   "metadata": {},
   "outputs": [],
   "source": [
    "def DFS_stack(g, s):\n",
    "    for u in g.nodes:\n",
    "        u.color = 'white'\n",
    "        u.pi = None\n",
    "    \n",
    "    print(f\"DFS result from vertex {s} is:\")\n",
    "    s = g.nodes[s]\n",
    "    P = [s]\n",
    "    back_edges = []\n",
    "    while P != []:\n",
    "        # [print(f\"{node.name}\", end = \" \") for node in P]\n",
    "        # print()\n",
    "        current = P[-1]\n",
    "        if current.color == 'white':\n",
    "            current.color = 'grey'\n",
    "        print(current.name)\n",
    "        pop = True\n",
    "        for adjacent in current.adj_list:\n",
    "            # print(adjacent.pi)\n",
    "            if adjacent in P and adjacent.color != 'white' and adjacent.pi and adjacent.pi != current:\n",
    "                back_edges.append((adjacent.name, current.name))\n",
    "                print((adjacent.name, [node.name for node in P]))\n",
    "            \n",
    "            if adjacent.color == 'white':\n",
    "                P.append(adjacent)\n",
    "                adjacent.pi = current\n",
    "                adjacent.color = 'grey'\n",
    "                pop = False\n",
    "                break\n",
    "\n",
    "        if pop:  # only pops when all adjacent were visited\n",
    "            P.pop()\n",
    "    return back_edges"
   ]
  },
  {
   "cell_type": "code",
   "execution_count": 142,
   "id": "15f74d09-7e01-4cdb-83fa-4883b5c1f1b4",
   "metadata": {},
   "outputs": [
    {
     "name": "stdout",
     "output_type": "stream",
     "text": [
      "DFS result from vertex 1 is:\n",
      "1\n",
      "2\n",
      "3\n",
      "(2, [1, 2, 3])\n",
      "4\n",
      "(3, [1, 2, 3, 4])\n",
      "3\n",
      "(2, [1, 2, 3])\n",
      "2\n",
      "1\n"
     ]
    },
    {
     "data": {
      "text/plain": [
       "[(2, 3), (3, 4), (2, 3)]"
      ]
     },
     "execution_count": 142,
     "metadata": {},
     "output_type": "execute_result"
    }
   ],
   "source": [
    "DFS_stack(g, 1)"
   ]
  },
  {
   "cell_type": "markdown",
   "id": "58811202-7c20-43af-a4c0-50a622c76bd7",
   "metadata": {},
   "source": [
    "<img src=\"./img/cycle2.png\" alt=\"drawing\" width=\"300\"/>"
   ]
  },
  {
   "cell_type": "markdown",
   "id": "48620158-7c64-496d-a519-6bdc253ecc55",
   "metadata": {},
   "source": [
    "<img src=\"./img/cycle.png\" alt=\"drawing\" width=\"300\"/>"
   ]
  },
  {
   "cell_type": "code",
   "execution_count": null,
   "id": "bde4b07a-e3db-4460-ae97-63e22b0a1e56",
   "metadata": {},
   "outputs": [],
   "source": []
  },
  {
   "cell_type": "markdown",
   "id": "2c564245-1ec1-4d2f-84d2-36191905e821",
   "metadata": {},
   "source": [
    "O grafo acima possui a back edge (3,0) e (3,1). Mas ele é direcionado. A questão é sobre grafos NÃO direcionados. Então as back edges são (3,0), (3,1), (1,4) e (0,5)."
   ]
  },
  {
   "cell_type": "code",
   "execution_count": 39,
   "id": "880ae843-f2b4-4695-828d-360ef58e7326",
   "metadata": {
    "jupyter": {
     "source_hidden": true
    },
    "tags": []
   },
   "outputs": [],
   "source": [
    "# g = Graph(6, undirected=True)\n",
    "# g.add_edge(0, 1)\n",
    "# g.add_edge(0, 5)\n",
    "# g.add_edge(1, 2)\n",
    "# g.add_edge(1, 4)\n",
    "# g.add_edge(2, 3)\n",
    "# g.add_edge(3, 1)\n",
    "# g.add_edge(4, 3)\n",
    "# g.add_edge(5, 4)\n",
    "# g.print()"
   ]
  }
 ],
 "metadata": {
  "kernelspec": {
   "display_name": "Python 3 (ipykernel)",
   "language": "python",
   "name": "python3"
  },
  "language_info": {
   "codemirror_mode": {
    "name": "ipython",
    "version": 3
   },
   "file_extension": ".py",
   "mimetype": "text/x-python",
   "name": "python",
   "nbconvert_exporter": "python",
   "pygments_lexer": "ipython3",
   "version": "3.8.5"
  }
 },
 "nbformat": 4,
 "nbformat_minor": 5
}
