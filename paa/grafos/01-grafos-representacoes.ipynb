{
 "cells": [
  {
   "cell_type": "markdown",
   "id": "88c109e6-e8a6-4819-83a6-9693f46d14ed",
   "metadata": {},
   "source": [
    "## Lista de adjacencia\n",
    "\n",
    "Desc:\n",
    "- Temos um grafo `G`\n",
    "- A lista de adjacencias será um Array (`Adj`) contendo `|V|` listas de vertices\n",
    "- Adj[u] terá todos os vertices adjacentes a `u`\n",
    "\n",
    "Entidades de um grafo:\n",
    "- Grafo -> Possui um conjunto de nós\n",
    "- Nó -> Possui um index e uma lista de adjacencias (também chamado de neighbors)\n",
    "- Aresta -> Possui um nó source e um nó dest"
   ]
  },
  {
   "cell_type": "markdown",
   "id": "0fd65395-aa18-48e2-a54e-ef1dac0adc19",
   "metadata": {},
   "source": [
    "## Grafo modelo"
   ]
  },
  {
   "cell_type": "markdown",
   "id": "286fc7fc-c978-4b9b-aefe-5a3961ac670e",
   "metadata": {},
   "source": [
    "<img src=\"./img/grafo-directed-unweighted.png\" alt=\"drawing\" width=\"300\"/>"
   ]
  },
  {
   "cell_type": "markdown",
   "id": "481d3dd6-40a6-4e72-bccf-55f0bc3ffffc",
   "metadata": {},
   "source": [
    "### Usando dict"
   ]
  },
  {
   "cell_type": "code",
   "execution_count": 90,
   "id": "14e25264-146d-46f3-a72e-3b2174a68b9f",
   "metadata": {},
   "outputs": [
    {
     "data": {
      "text/plain": [
       "{0: [1], 1: [2, 3], 2: [4, 5], 3: [], 4: [], 5: []}"
      ]
     },
     "execution_count": 90,
     "metadata": {},
     "output_type": "execute_result"
    }
   ],
   "source": [
    "grafo = { 0 : [1],\n",
    "          1 : [2, 3],\n",
    "          2 : [4, 5],\n",
    "          3 : [],\n",
    "          4 : [],\n",
    "          5 : []\n",
    "        }\n",
    "grafo"
   ]
  },
  {
   "cell_type": "markdown",
   "id": "62e04696-f90c-4e9f-ac36-65d103925098",
   "metadata": {},
   "source": [
    "- O interessante de se usar um dicionário para representar o grafo é a conveniência que isso proporciona. \n",
    "- As chaves do dicionário são os vértices e os valores são as listas de adjacências.\n",
    "- Para iterar sobre **cada vértice** v de um grafo G, precisamos simplesmente fazer for v in G. \n",
    "- Para iterar sobre os **vizinhos** de um vértice v, basta fazer for u in G[v].\n",
    "- Downside dessa representação é que não dá pra colocar outros atributos."
   ]
  },
  {
   "cell_type": "markdown",
   "id": "dad8b0ff-e553-446d-b984-c8592abf9e18",
   "metadata": {},
   "source": [
    "### Usando classes"
   ]
  },
  {
   "cell_type": "markdown",
   "id": "c030428f-31cc-4c3b-96b9-af79d17e9899",
   "metadata": {},
   "source": [
    "A implementação usando classe pode ser usada para adicionar outros atributos que contenham informações que queiramos em algum momento. Por exemplo, se quisermos guardar um estado do nó. Será muito útil nas implementações dos algoritmos de grafos."
   ]
  },
  {
   "cell_type": "code",
   "execution_count": 81,
   "id": "5eda9068-2d3b-4a7e-83c0-fbbb1ebe10dc",
   "metadata": {},
   "outputs": [],
   "source": [
    "class Node: \n",
    "    def __init__(self, name):\n",
    "        self.name = name  # its index\n",
    "        self.adj_list = []\n",
    "        \n",
    "class Graph:\n",
    "    def __init__(self, num_vertices=None):\n",
    "        self.num_vertices = num_vertices\n",
    "        self.nodes = [Node(v) for v in range(num_vertices)]\n",
    "               \n",
    "    def add_edge(self, source, dest):\n",
    "        self.nodes[source].adj_list.append(self.nodes[dest])\n",
    "        \n",
    "    def print_graph(self):\n",
    "        for node in self.nodes:\n",
    "            print(f\"Node {node.name} -> {[n.name for n in node.adj_list]}\", end=\"\")\n",
    "            print(\" \\n\")"
   ]
  },
  {
   "cell_type": "code",
   "execution_count": 91,
   "id": "03a03d41-7ebc-4337-9b1b-0d5f59479478",
   "metadata": {},
   "outputs": [],
   "source": [
    "g = Graph(6)\n",
    "g.add_edge(0, 1)\n",
    "g.add_edge(1, 2)\n",
    "g.add_edge(1, 3)\n",
    "g.add_edge(2, 4)\n",
    "g.add_edge(2, 5)"
   ]
  },
  {
   "cell_type": "code",
   "execution_count": 92,
   "id": "aeee67d8-f3bb-4b02-bd0f-29e160685378",
   "metadata": {},
   "outputs": [
    {
     "name": "stdout",
     "output_type": "stream",
     "text": [
      "Node 0 -> [1] \n",
      "\n",
      "Node 1 -> [2, 3] \n",
      "\n",
      "Node 2 -> [4, 5] \n",
      "\n",
      "Node 3 -> [] \n",
      "\n",
      "Node 4 -> [] \n",
      "\n",
      "Node 5 -> [] \n",
      "\n"
     ]
    }
   ],
   "source": [
    "g.print_graph()"
   ]
  },
  {
   "cell_type": "markdown",
   "id": "df5f29ec-778a-4d12-a99c-5d0f104ef162",
   "metadata": {},
   "source": [
    "Essa foi a representação de um grafo com direções."
   ]
  },
  {
   "cell_type": "markdown",
   "id": "5aec7ffb-e9a6-481e-8e7b-3322f2cfdb64",
   "metadata": {},
   "source": [
    "A representação de um grafo sem direções muda apenas a função `add_edge` dado que queremos adicionar os vértices pais como adjacentes do filho também."
   ]
  },
  {
   "cell_type": "code",
   "execution_count": 99,
   "id": "e254d559-c374-4323-ac02-829712264d9e",
   "metadata": {},
   "outputs": [],
   "source": [
    "class Node: \n",
    "    def __init__(self, name):\n",
    "        self.name = name  # its index\n",
    "        self.adj_list = []\n",
    "        \n",
    "class GraphUndirected:\n",
    "    def __init__(self, num_vertices=None):\n",
    "        self.num_vertices = num_vertices\n",
    "        self.nodes = [Node(v) for v in range(num_vertices)]\n",
    "               \n",
    "    def add_edge(self, source, dest):\n",
    "        self.nodes[source].adj_list.append(self.nodes[dest])\n",
    "        self.nodes[dest].adj_list.append(self.nodes[source])\n",
    "        \n",
    "    def print_graph(self):\n",
    "        for node in self.nodes:\n",
    "            print(f\"Node {node.name} -> {[n.name for n in node.adj_list]}\", end=\"\")\n",
    "            print(\" \\n\")"
   ]
  },
  {
   "cell_type": "markdown",
   "id": "a7c4adc8-1a77-4040-a915-bb72cb0d1ab2",
   "metadata": {},
   "source": [
    "Usando o mesmo grafo, mas apenas abstraindo as setas:\n",
    "\n",
    "<img src=\"./img/grafo-directed-unweighted.png\" alt=\"drawing\" width=\"200\"/>"
   ]
  },
  {
   "cell_type": "code",
   "execution_count": 103,
   "id": "241135cd-404a-4f52-800f-ebb3d00bd078",
   "metadata": {},
   "outputs": [],
   "source": [
    "g = GraphUndirected(6)\n",
    "g.add_edge(0, 1)\n",
    "g.add_edge(1, 2)\n",
    "g.add_edge(1, 3)\n",
    "g.add_edge(2, 4)\n",
    "g.add_edge(2, 5)"
   ]
  },
  {
   "cell_type": "code",
   "execution_count": 104,
   "id": "42699da1-8bc3-403a-9d58-86a16165966d",
   "metadata": {},
   "outputs": [
    {
     "name": "stdout",
     "output_type": "stream",
     "text": [
      "Node 0 -> [1] \n",
      "\n",
      "Node 1 -> [0, 2, 3] \n",
      "\n",
      "Node 2 -> [1, 4, 5] \n",
      "\n",
      "Node 3 -> [1] \n",
      "\n",
      "Node 4 -> [2] \n",
      "\n",
      "Node 5 -> [2] \n",
      "\n"
     ]
    }
   ],
   "source": [
    "g.print_graph()"
   ]
  }
 ],
 "metadata": {
  "kernelspec": {
   "display_name": "Python 3 (ipykernel)",
   "language": "python",
   "name": "python3"
  },
  "language_info": {
   "codemirror_mode": {
    "name": "ipython",
    "version": 3
   },
   "file_extension": ".py",
   "mimetype": "text/x-python",
   "name": "python",
   "nbconvert_exporter": "python",
   "pygments_lexer": "ipython3",
   "version": "3.8.5"
  }
 },
 "nbformat": 4,
 "nbformat_minor": 5
}
