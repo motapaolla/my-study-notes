{
 "cells": [
  {
   "cell_type": "markdown",
   "id": "11957dc7-377a-4d47-9d7c-9dd908a69f8e",
   "metadata": {},
   "source": [
    "# Search algorithms"
   ]
  },
  {
   "cell_type": "markdown",
   "id": "9baaa6c3-69ca-4d5b-9b06-0b1ef08f9efd",
   "metadata": {},
   "source": [
    "Estudaremos BFS e DFS."
   ]
  },
  {
   "cell_type": "markdown",
   "id": "c8bf95d4-d16b-40e4-8001-1c9339455f60",
   "metadata": {},
   "source": [
    "## Estruturas de Dados"
   ]
  },
  {
   "cell_type": "code",
   "execution_count": 1,
   "id": "8a99ac76-161a-4303-95ad-9bf11405614b",
   "metadata": {},
   "outputs": [],
   "source": [
    "# Implementação de uma fila no python, para facilitar a manipulação\n",
    "# dos atributos\n",
    "\n",
    "class Queue:\n",
    "\n",
    "    def __init__(self):\n",
    "        self.queue = []\n",
    "\n",
    "    # Add an element\n",
    "    def enqueue(self, item):\n",
    "        self.queue.append(item)\n",
    "\n",
    "    # Remove an element\n",
    "    def dequeue(self):\n",
    "        if len(self.queue) < 1:\n",
    "            return None\n",
    "        return self.queue.pop(0)\n",
    "\n",
    "    # Display  the queue\n",
    "    def display(self):\n",
    "         logging.debug([v.name for v in self.queue])\n",
    "\n",
    "    def size(self):\n",
    "        return len(self.queue)"
   ]
  },
  {
   "cell_type": "code",
   "execution_count": 78,
   "id": "6881a566-de8c-4d4d-8965-87a91e4a4bd8",
   "metadata": {},
   "outputs": [],
   "source": [
    "\"\"\"Implementação de grafo feita no notebook 01, com algumas mudanças\n",
    "    1. Adição de parametros novos na classe Node\n",
    "    2. Adição do parametro `undirected` para especificar o tipo de grafo \n",
    "\"\"\"\n",
    "\n",
    "class Node:  \n",
    "    def __init__(self, name, color=None, d=None, pi=None):\n",
    "        self.name = name\n",
    "        self.adj_list = []\n",
    "        self.color = color  # estado: visitado, não visitado, explorado\n",
    "        self.d = d  # distancia do vértice origem\n",
    "        self.pi = pi  # vértice predecessor\n",
    "\n",
    "class Graph:\n",
    "    def __init__(self, num_vertices=None, undirected=True):\n",
    "        self.num_vertices = num_vertices\n",
    "        self.nodes = [Node(v) for v in range(num_vertices)]\n",
    "        self.undirected = undirected\n",
    "               \n",
    "    def add_edge(self, source, dest):\n",
    "        self.nodes[source].adj_list.append(self.nodes[dest])\n",
    "        if self.undirected:\n",
    "            self.nodes[dest].adj_list.append(self.nodes[source])\n",
    "        \n",
    "    def print_graph(self):\n",
    "        for node in self.nodes:\n",
    "            print(f\"Node {node.name} -> {[n.name for n in node.adj_list]}\")"
   ]
  },
  {
   "cell_type": "markdown",
   "id": "85c9c9e6-cbb6-432f-931c-98099d97a4fe",
   "metadata": {},
   "source": [
    "## Grafo modelo"
   ]
  },
  {
   "cell_type": "markdown",
   "id": "137838f3-f6b6-48c1-aab7-402fb446d8b0",
   "metadata": {},
   "source": [
    "<img src=\"./img/grafo-directed-unweighted.png\" alt=\"drawing\" width=\"300\"/>"
   ]
  },
  {
   "cell_type": "code",
   "execution_count": 79,
   "id": "42c964d1-96a3-4779-b3c8-0c9f15588b3f",
   "metadata": {},
   "outputs": [],
   "source": [
    "# Função usada para facilitar a inicialização do grafo abaixo\n",
    "\n",
    "def initialize_graph():\n",
    "    g = Graph(6, undirected=True)\n",
    "    g.add_edge(0, 1)\n",
    "    g.add_edge(1, 2)\n",
    "    g.add_edge(1, 3)\n",
    "    g.add_edge(2, 4)\n",
    "    g.add_edge(2, 5)\n",
    "    return g"
   ]
  },
  {
   "cell_type": "markdown",
   "id": "5f9b241d-ac0d-4e2e-aeb8-03a063ac344b",
   "metadata": {},
   "source": [
    "## Run BFS"
   ]
  },
  {
   "cell_type": "code",
   "execution_count": 80,
   "id": "cd85c470-3f85-49b1-ada5-3177d86d8800",
   "metadata": {},
   "outputs": [],
   "source": [
    "def BFS(G, s): \n",
    "\n",
    "    INF = 99999999 # Constants\n",
    "\n",
    "    # Initializes all nodes with white\n",
    "    for u in g.nodes:\n",
    "        u.color = 'white'\n",
    "        u.d = INF\n",
    "        u.pi = None\n",
    "        \n",
    "    # Itializes root\n",
    "    s = g.nodes[s]\n",
    "    s.color = 'gray'\n",
    "    s.d = 0\n",
    "    s.pi = None\n",
    "    \n",
    "    # Create queue\n",
    "    Q = Queue()\n",
    "    Q.enqueue(s)\n",
    "    \n",
    "    # Start search\n",
    "    path = []\n",
    "    print (f\"From vertex: {s.name}\")\n",
    "    while Q.queue != []:\n",
    "        logging.debug(f\"Queue:\")\n",
    "        Q.display()\n",
    "        \n",
    "        u = Q.dequeue()\n",
    "        path.append(u.name)\n",
    "        \n",
    "        for v in u.adj_list:\n",
    "            if v.color == 'white':\n",
    "                v.color = 'gray'\n",
    "                v.d = u.d + 1\n",
    "                Q.enqueue(v)\n",
    "\n",
    "        u.color = 'black'\n",
    "        \n",
    "    return path"
   ]
  },
  {
   "cell_type": "code",
   "execution_count": 81,
   "id": "6c115163-f225-4f4c-a559-34e81e4526c3",
   "metadata": {},
   "outputs": [
    {
     "name": "stdout",
     "output_type": "stream",
     "text": [
      "From vertex: 2\n"
     ]
    },
    {
     "data": {
      "text/plain": [
       "[2, 1, 4, 5, 0, 3]"
      ]
     },
     "execution_count": 81,
     "metadata": {},
     "output_type": "execute_result"
    }
   ],
   "source": [
    "g = initialize_graph()\n",
    "BFS(G=g, s=2)"
   ]
  },
  {
   "cell_type": "markdown",
   "id": "e253c5fa-541e-46b4-841b-c3f14f388427",
   "metadata": {},
   "source": [
    "<img src=\"./img/grafo-directed-unweighted.png\" alt=\"drawing\" width=\"200\"/>"
   ]
  },
  {
   "cell_type": "markdown",
   "id": "2ccc0aa4-26a2-4717-96c4-fe46cf2b9438",
   "metadata": {},
   "source": [
    "## Run DFS - Recursion"
   ]
  },
  {
   "cell_type": "code",
   "execution_count": 62,
   "id": "112c0f6a-ac39-401d-9269-6acc71bcaa83",
   "metadata": {},
   "outputs": [
    {
     "name": "stdout",
     "output_type": "stream",
     "text": [
      "DFS result is:\n",
      "0 1 2 4 5 3 "
     ]
    }
   ],
   "source": [
    "def DFS(G):\n",
    "    for u in G.nodes:\n",
    "        u.color = 'white'\n",
    "        u.pi = None\n",
    "\n",
    "    print(\"DFS result is:\")\n",
    "    for u in G.nodes:\n",
    "        if u.color == 'white':\n",
    "            DFS_visit(G, u)\n",
    "\n",
    "def DFS_visit(G, u):\n",
    "    u.color = 'gray'\n",
    "    print(f\"{u.name}\", end=\" \")\n",
    "    for v in u.adj_list:\n",
    "        \n",
    "        if v.color == 'white':\n",
    "            v.pi = u\n",
    "            DFS_visit(G, v)\n",
    "    u.color = 'black'\n",
    "\n",
    "g = initialize_graph()\n",
    "DFS(G=g)"
   ]
  },
  {
   "cell_type": "markdown",
   "id": "f0a334cc-bc2b-4b31-93f7-f0f7d0973c45",
   "metadata": {},
   "source": [
    "<img src=\"./img/grafo-directed-unweighted.png\" alt=\"drawing\" width=\"200\"/>"
   ]
  },
  {
   "cell_type": "markdown",
   "id": "606d4b1e-7f6d-4f71-81e2-cbf906f1a3ac",
   "metadata": {},
   "source": [
    "## Run DFS - Stack"
   ]
  },
  {
   "cell_type": "code",
   "execution_count": 63,
   "id": "7d5349e6-195e-484e-9963-7230e9367afe",
   "metadata": {},
   "outputs": [
    {
     "name": "stdout",
     "output_type": "stream",
     "text": [
      "DFS result from vertex 0 is:\n",
      "0 1 2 4 2 5 2 1 3 1 0 "
     ]
    }
   ],
   "source": [
    "def DFS_stack(g, s):\n",
    "    for u in g.nodes:\n",
    "        u.color = 'white'\n",
    "        u.pi = None\n",
    "    \n",
    "    print(f\"DFS result from vertex {s} is:\")\n",
    "    s = g.nodes[s]\n",
    "    P = [s]\n",
    "    while P != []:\n",
    "        current = P[-1]\n",
    "        if current.color == 'white':\n",
    "            current.color = 'grey'\n",
    "        print(current.name, end=' ')\n",
    "\n",
    "        pop = True\n",
    "        for adjacent in current.adj_list:\n",
    "            if adjacent.color == 'white':\n",
    "                P.append(adjacent)\n",
    "                adjacent.pi = current\n",
    "                adjacent.color = 'grey'\n",
    "                pop = False\n",
    "                break\n",
    "\n",
    "        if pop:  # only pops when all adjacent were visited\n",
    "            P.pop()\n",
    "\n",
    "g = initialize_graph()\n",
    "DFS_stack(g, 0)"
   ]
  },
  {
   "cell_type": "markdown",
   "id": "e2c6863d-907d-47fc-8ca6-b65afaacb267",
   "metadata": {},
   "source": [
    "<img src=\"./img/grafo-directed-unweighted.png\" alt=\"drawing\" width=\"200\"/>"
   ]
  },
  {
   "cell_type": "markdown",
   "id": "3d0c04da-e5d1-42b0-bced-bdbd48d794b2",
   "metadata": {},
   "source": [
    "Esse tá printando todo o caminho percorrido, enquanto o anterior printa só os vertices descobertos.\n",
    "\n",
    "Outra implementação que eu vi na internet:"
   ]
  },
  {
   "cell_type": "code",
   "execution_count": 54,
   "id": "b335fa23-2174-4be1-b961-28b4b90632ba",
   "metadata": {},
   "outputs": [
    {
     "name": "stdout",
     "output_type": "stream",
     "text": [
      "0 1 3 2 5 4 "
     ]
    }
   ],
   "source": [
    "def DFS_stack_other(G, u):\n",
    "    for n in g.nodes:\n",
    "        n.color = 'WHITE'\n",
    "        n.pi = None\n",
    "        \n",
    "    u = g.nodes[u]\n",
    "    STACK = [u]\n",
    "    \n",
    "    while STACK != []:\n",
    "        u = STACK[-1]\n",
    "        \n",
    "        if u.color == 'GRAY':\n",
    "            u.color = 'BLACK'\n",
    "            STACK.pop()\n",
    "            continue\n",
    "            \n",
    "        if u.color == 'WHITE':\n",
    "            print(u.name, end=' ')\n",
    "            u.color = 'GRAY'\n",
    "\n",
    "        for v in u.adj_list:\n",
    "            if v.color == 'WHITE':\n",
    "                v.pi = u\n",
    "                STACK.append(v)\n",
    "\n",
    "g = initialize_graph()\n",
    "DFS_stack_other(g, 0)"
   ]
  },
  {
   "cell_type": "markdown",
   "id": "777bb259-e4ec-40c9-a902-e0bb37cf89a9",
   "metadata": {},
   "source": [
    "<img src=\"./img/grafo-directed-unweighted.png\" alt=\"drawing\" width=\"200\"/>"
   ]
  },
  {
   "cell_type": "markdown",
   "id": "921a0176-e812-4e30-a480-2345eccb4d95",
   "metadata": {},
   "source": [
    "Mesma coisa mas olha primeiro o vértice da direita e não da esquerda."
   ]
  },
  {
   "cell_type": "markdown",
   "id": "6a081d28-9634-4a95-a6d7-65248e5c9f3a",
   "metadata": {},
   "source": [
    "## Exemplos de outros grafos"
   ]
  },
  {
   "cell_type": "markdown",
   "id": "17afc571-6172-44d3-90da-1f5712b7b7c2",
   "metadata": {},
   "source": [
    "<img src=\"./img/dag2.jpg\" alt=\"drawing\" width=\"400\"/>"
   ]
  },
  {
   "cell_type": "code",
   "execution_count": 76,
   "id": "9c089cbe-e179-4b29-ade1-0249cdcea78c",
   "metadata": {},
   "outputs": [
    {
     "name": "stdout",
     "output_type": "stream",
     "text": [
      "Node 0 -> [1, 2, 3] \n",
      "\n",
      "Node 1 -> [5, 4] \n",
      "\n",
      "Node 2 -> [9, 10] \n",
      "\n",
      "Node 3 -> [8] \n",
      "\n",
      "Node 4 -> [6, 7] \n",
      "\n",
      "Node 5 -> [9, 10] \n",
      "\n",
      "Node 6 -> [8, 9] \n",
      "\n",
      "Node 7 -> [8] \n",
      "\n",
      "Node 8 -> [11] \n",
      "\n",
      "Node 9 -> [11] \n",
      "\n",
      "Node 10 -> [11] \n",
      "\n",
      "Node 11 -> [] \n",
      "\n"
     ]
    }
   ],
   "source": [
    "g = Graph(12, undirected=False)  # Só funciona com directed tem que debugar depois pra entender\n",
    "g.add_edge(0, 1)\n",
    "g.add_edge(0, 2)\n",
    "g.add_edge(0, 3)\n",
    "g.add_edge(1, 5)\n",
    "g.add_edge(1, 4)\n",
    "g.add_edge(2, 9)\n",
    "g.add_edge(2, 10)\n",
    "g.add_edge(3, 8)\n",
    "g.add_edge(4, 6)\n",
    "g.add_edge(4, 7)\n",
    "g.add_edge(5, 9)\n",
    "g.add_edge(5, 10)\n",
    "g.add_edge(6, 8)\n",
    "g.add_edge(6, 9)\n",
    "g.add_edge(7, 8)\n",
    "g.add_edge(8, 11)\n",
    "g.add_edge(9, 11)\n",
    "g.add_edge(10, 11)\n",
    "g.print_graph()"
   ]
  },
  {
   "cell_type": "code",
   "execution_count": 77,
   "id": "0a394817-b26b-418e-bf5b-13b57c681a55",
   "metadata": {},
   "outputs": [
    {
     "name": "stdout",
     "output_type": "stream",
     "text": [
      "DFS result is:\n",
      "0 1 5 9 11 10 4 6 8 7 2 3 "
     ]
    }
   ],
   "source": [
    "DFS(G=g)"
   ]
  },
  {
   "cell_type": "markdown",
   "id": "e4af95a4-1c9b-4c76-88fc-d35d46f90ff6",
   "metadata": {},
   "source": [
    "<img src=\"./img/dag2.jpg\" alt=\"drawing\" width=\"400\"/>"
   ]
  },
  {
   "cell_type": "code",
   "execution_count": null,
   "id": "976d2d2c-12a3-47d7-90c3-8bfefc28247f",
   "metadata": {},
   "outputs": [],
   "source": []
  }
 ],
 "metadata": {
  "kernelspec": {
   "display_name": "Python 3 (ipykernel)",
   "language": "python",
   "name": "python3"
  },
  "language_info": {
   "codemirror_mode": {
    "name": "ipython",
    "version": 3
   },
   "file_extension": ".py",
   "mimetype": "text/x-python",
   "name": "python",
   "nbconvert_exporter": "python",
   "pygments_lexer": "ipython3",
   "version": "3.8.5"
  }
 },
 "nbformat": 4,
 "nbformat_minor": 5
}
