{
 "cells": [
  {
   "cell_type": "markdown",
   "id": "b6bdf5cd-73ca-42b2-a324-d818530ff857",
   "metadata": {},
   "source": [
    "# Caminhos Mínimos\n",
    "\n",
    "**\\> Se aplica a:**\n",
    "- Grafos direcionados\n",
    "\n",
    "**\\> Queremos encontrar:**\n",
    "- Distância de cada vértice até a um dado vértice source (s)."
   ]
  },
  {
   "cell_type": "markdown",
   "id": "70c40e71-750a-4fd1-8589-e984f663c039",
   "metadata": {},
   "source": [
    "## Estruturas de dados a serem usadas"
   ]
  },
  {
   "cell_type": "code",
   "execution_count": 104,
   "id": "023cc128-005d-4387-b8ff-bf74c0dac888",
   "metadata": {
    "jupyter": {
     "source_hidden": true
    },
    "tags": []
   },
   "outputs": [],
   "source": [
    "\"\"\"Same as before however added method for listing edges\"\"\"\n",
    "\n",
    "\n",
    "class Node:  \n",
    "    def __init__(self, name, color=None, d=None, pi=None):\n",
    "        self.name = name\n",
    "        self.adj_list = []\n",
    "        self.color = color  # estado: visitado, não visitado, explorado\n",
    "        self.d = d  # distancia do vértice origem\n",
    "        self.pi = pi  # vértice predecessor\n",
    "   \n",
    "    # def __repr__(self):\n",
    "    #     return repr(self.name)\n",
    "    \n",
    "class Graph:\n",
    "    def __init__(self, num_vertices=None, undirected=True):\n",
    "        self.num_vertices = num_vertices\n",
    "        self.nodes = [Node(v) for v in range(num_vertices)]\n",
    "        self.undirected = undirected\n",
    "\n",
    "    def __getitem__(self, item):\n",
    "        return self.nodes[item]\n",
    "    \n",
    "    def add_edge(self, source, dest, weight):\n",
    "        self.nodes[source].adj_list.append((self.nodes[dest], weight))\n",
    "        if self.undirected:\n",
    "            self.nodes[dest].adj_list.append((self.nodes[source], weight))\n",
    "        \n",
    "    def print(self):\n",
    "        for node in self.nodes:\n",
    "            print(f\"Node {node.name} -> {[(n.name, w) for n, w in node.adj_list]}\")\n",
    "            \n",
    "    def get_list_edges(self):\n",
    "        edges = []\n",
    "        for u in self.nodes:\n",
    "            for v, w in u.adj_list:\n",
    "                if self.undirected:  # So it won't repeat edges\n",
    "                    first = min(u.name, v.name)\n",
    "                    second = v.name if first == u.name else u.name\n",
    "                    edge = (first, second, w)\n",
    "                    edges.append(edge) if edge not in edges else None\n",
    "                else:\n",
    "                    edges.append((u.name, v.name, w))\n",
    "\n",
    "        return edges\n",
    "    \n",
    "    def get_sorted_list_edges(self):\n",
    "        edges = self.get_list_edges()\n",
    "        return sorted(edges, key=lambda tup: tup[2])\n",
    "\n",
    "    def find_edge_weight(self, e1, e2):\n",
    "        for v, w in self.nodes[e1].adj_list:\n",
    "            if v.name == e2:\n",
    "                return w\n",
    "        return 'Not found'\n",
    "\n",
    "        "
   ]
  },
  {
   "cell_type": "markdown",
   "id": "f48fbdfe-e047-4770-8840-fcaefa15e258",
   "metadata": {},
   "source": [
    "## Belman Ford\n",
    "- Para cada vértice, pego sua distância até a source.\n",
    "- Também indica se tem ciclos.\n",
    "- Aceita pesos negativos."
   ]
  },
  {
   "cell_type": "markdown",
   "id": "66b4f1ed-937e-4b61-a468-802e0be788ed",
   "metadata": {},
   "source": [
    "### Inicialização do grafo"
   ]
  },
  {
   "cell_type": "code",
   "execution_count": 9,
   "id": "ec7b40f6-bd8b-4f17-b15d-660f69685eb2",
   "metadata": {},
   "outputs": [
    {
     "name": "stdout",
     "output_type": "stream",
     "text": [
      "Node 0 -> [(1, 3), (3, 7), (4, 8)]\n",
      "Node 1 -> [(0, 3), (2, 1), (3, 4)]\n",
      "Node 2 -> [(1, 1), (3, 2)]\n",
      "Node 3 -> [(0, 7), (1, 4), (2, 2), (4, 3)]\n",
      "Node 4 -> [(0, 8), (3, 3)]\n"
     ]
    }
   ],
   "source": [
    "g = Graph(5)\n",
    "g.add_edge(0, 1, 3)\n",
    "g.add_edge(0, 3, 7)\n",
    "g.add_edge(0, 4, 8)\n",
    "g.add_edge(1, 2, 1)\n",
    "g.add_edge(1, 3, 4)\n",
    "g.add_edge(2, 3, 2)\n",
    "g.add_edge(3, 4, 3)\n",
    "g.print()"
   ]
  },
  {
   "cell_type": "markdown",
   "id": "04042bd3-3ded-442d-af5d-4b7885a40292",
   "metadata": {},
   "source": [
    "### Algorítmo"
   ]
  },
  {
   "cell_type": "code",
   "execution_count": 10,
   "id": "25379b66-ce94-4d95-a29a-84db39a2a3e7",
   "metadata": {},
   "outputs": [],
   "source": [
    "INF = 99999999999\n",
    "\n",
    "class BellmanFord():\n",
    "    def __init__(self, G):\n",
    "        self.G = G\n",
    "        self.E = G.get_list_edges()\n",
    "        \n",
    "    def initialize_single_source(self, s):\n",
    "        \"\"\"Inicialização dos nós com distancias infinitas até a \n",
    "        source e predecessores nulos\"\"\"\n",
    "        \n",
    "        for v in self.G.nodes:\n",
    "            v.d = INF\n",
    "            v.pi = None\n",
    "            \n",
    "        self.G[s].d = 0\n",
    "\n",
    "    def relax(self, u, v, w):\n",
    "        \"\"\"Verifica se o o caminho para o vertice `u` melhora \n",
    "        o caminho minimo encontrado até agora para o vértice `v`.\n",
    "        Se sim, atualiza o valor de `v.d` com o peso até agora, \n",
    "        e adiciona `u` como seu predecessor.\"\"\"\n",
    "        \n",
    "        if self.G[v].d > self.G[u].d + w:\n",
    "            self.G[v].d = self.G[u].d + w\n",
    "            self.G[v].pi = self.G[u]\n",
    "        \n",
    "    def bellman_ford(self, s):\n",
    "        self.initialize_single_source(s)\n",
    "        \n",
    "        # \"Relaxa\" as arestas\n",
    "        for i in range(len(self.G.nodes) - 1):\n",
    "            for u, v, w in self.E:\n",
    "                self.relax(u, v, w)\n",
    "        \n",
    "        # Printando\n",
    "        [print(f\"Vertex: {n.name}, shortest_discance_from_source: {n.d}, pred: {n.pi}\") for n in self.G.nodes]\n",
    "        \n",
    "        # Verifica se tem ciclos negativos\n",
    "        for edge in self.E:\n",
    "            w = edge[2]\n",
    "            if self.G[v].d > self.G[u].d + w:\n",
    "                return False\n",
    "        return True"
   ]
  },
  {
   "cell_type": "code",
   "execution_count": 11,
   "id": "8114f5c1-2d13-4592-a1fd-568dca018d5a",
   "metadata": {},
   "outputs": [
    {
     "name": "stdout",
     "output_type": "stream",
     "text": [
      "Node 0 -> [(1, 3), (3, 7), (4, 8)]\n",
      "Node 1 -> [(0, 3), (2, 1), (3, 4)]\n",
      "Node 2 -> [(1, 1), (3, 2)]\n",
      "Node 3 -> [(0, 7), (1, 4), (2, 2), (4, 3)]\n",
      "Node 4 -> [(0, 8), (3, 3)]\n"
     ]
    }
   ],
   "source": [
    "g = Graph(5)\n",
    "g.add_edge(0, 1, 3)\n",
    "g.add_edge(0, 3, 7)\n",
    "g.add_edge(0, 4, 8)\n",
    "g.add_edge(1, 2, 1)\n",
    "g.add_edge(1, 3, 4)\n",
    "g.add_edge(2, 3, 2)\n",
    "g.add_edge(3, 4, 3)\n",
    "g.print()"
   ]
  },
  {
   "cell_type": "code",
   "execution_count": 12,
   "id": "6b6a6cd9-24dc-4ac2-b0f3-0dd1a2cafd2a",
   "metadata": {},
   "outputs": [
    {
     "name": "stdout",
     "output_type": "stream",
     "text": [
      "Vertex: 0, shortest_discance_from_source: 0, pred: None\n",
      "Vertex: 1, shortest_discance_from_source: 3, pred: <__main__.Node object at 0x000001FF86586310>\n",
      "Vertex: 2, shortest_discance_from_source: 4, pred: <__main__.Node object at 0x000001FF8616FDF0>\n",
      "Vertex: 3, shortest_discance_from_source: 6, pred: <__main__.Node object at 0x000001FF87B2FB50>\n",
      "Vertex: 4, shortest_discance_from_source: 8, pred: <__main__.Node object at 0x000001FF86586310>\n"
     ]
    },
    {
     "data": {
      "text/plain": [
       "False"
      ]
     },
     "execution_count": 12,
     "metadata": {},
     "output_type": "execute_result"
    }
   ],
   "source": [
    "bf = BellmanFord(g)\n",
    "\n",
    "bf.bellman_ford(0)"
   ]
  },
  {
   "cell_type": "markdown",
   "id": "8bbe4754-50c2-49ac-8150-3d8cf1ad56aa",
   "metadata": {},
   "source": [
    "## Dijkstra\n",
    "- Para cada vértice, pego sua distância até a source.\n",
    "- Também indica se tem ciclos.\n",
    "- Aceita pesos negativos."
   ]
  },
  {
   "cell_type": "markdown",
   "id": "cc71649b-35c0-4ed8-a43d-e1acc8349c9e",
   "metadata": {},
   "source": [
    "### Inicialização do grafo"
   ]
  },
  {
   "cell_type": "code",
   "execution_count": 1,
   "id": "e3b390de-d0e6-413d-805c-e6ae714a2086",
   "metadata": {
    "tags": []
   },
   "outputs": [],
   "source": [
    "\"\"\"Same as before however added method for listing edges\"\"\"\n",
    "\n",
    "\n",
    "class Node:  \n",
    "    def __init__(self, name, color=None, d=None, pi=None):\n",
    "        self.name = name\n",
    "        self.adj_list = []\n",
    "        self.color = color  # estado: visitado, não visitado, explorado\n",
    "        self.d = d  # distancia do vértice origem\n",
    "        self.pi = pi  # vértice predecessor\n",
    "   \n",
    "    def __repr__(self):\n",
    "        return repr(self.name)\n",
    "    \n",
    "class Graph:\n",
    "    def __init__(self, num_vertices=None, undirected=True):\n",
    "        self.num_vertices = num_vertices\n",
    "        self.nodes = [Node(v) for v in range(num_vertices)]\n",
    "        self.undirected = undirected\n",
    "\n",
    "    def __getitem__(self, item):\n",
    "        return self.nodes[item]\n",
    "    \n",
    "    def add_edge(self, source, dest, weight):\n",
    "        self.nodes[source].adj_list.append((self.nodes[dest], weight))\n",
    "        if self.undirected:\n",
    "            self.nodes[dest].adj_list.append((self.nodes[source], weight))\n",
    "        \n",
    "    def print(self):\n",
    "        for node in self.nodes:\n",
    "            print(f\"Node {node.name} -> {[(n.name, w) for n, w in node.adj_list]}\")\n",
    "            \n",
    "    def get_list_edges(self):\n",
    "        edges = []\n",
    "        for u in self.nodes:\n",
    "            for v, w in u.adj_list:\n",
    "                if self.undirected:  # So it won't repeat edges\n",
    "                    first = min(u.name, v.name)\n",
    "                    second = v.name if first == u.name else u.name\n",
    "                    edge = (first, second, w)\n",
    "                    edges.append(edge) if edge not in edges else None\n",
    "                else:\n",
    "                    edges.append((u.name, v.name, w))\n",
    "\n",
    "        return edges\n",
    "    \n",
    "    def get_sorted_list_edges(self):\n",
    "        edges = self.get_list_edges()\n",
    "        return sorted(edges, key=lambda tup: tup[2])\n",
    "\n",
    "    def find_edge_weight(self, e1, e2):\n",
    "        for v, w in self.nodes[e1].adj_list:\n",
    "            if v.name == e2:\n",
    "                return w\n",
    "        return 'Not found'\n",
    "\n",
    "        "
   ]
  },
  {
   "cell_type": "markdown",
   "id": "1cd695d0-780d-4791-8d60-0bb8daaff0e2",
   "metadata": {},
   "source": [
    "### Estrutura de dados de controle"
   ]
  },
  {
   "cell_type": "code",
   "execution_count": 2,
   "id": "c8ad84ef-7475-473e-b637-90a8f26faa0b",
   "metadata": {},
   "outputs": [],
   "source": [
    "class PriorityQueue(object):\n",
    "    def __init__(self):\n",
    "        self.queue = []\n",
    "  \n",
    "    def __str__(self):\n",
    "        return ' '.join([str(i) for i in self.queue])\n",
    "  \n",
    "    # for checking if the queue is empty\n",
    "    def isEmpty(self):\n",
    "        return len(self.queue) == 0\n",
    "  \n",
    "    # for inserting an element in the queue\n",
    "    def insert(self, data):\n",
    "        self.queue.append(data)\n",
    "  \n",
    "    # for popping an element based on Priority\n",
    "    def extract_max(self):\n",
    "        try:\n",
    "            max_val = 0\n",
    "            for i in range(len(self.queue)):\n",
    "                if self.queue[i].d > self.queue[max_val].d:\n",
    "                    max_val = i\n",
    "            item = self.queue[max_val]\n",
    "            del self.queue[max_val]\n",
    "            return item\n",
    "        except IndexError:\n",
    "            print()\n",
    "            exit()\n",
    "            \n",
    "    def extract_min(self):\n",
    "        try:\n",
    "            min_val = 0\n",
    "            for i in range(len(self.queue)):\n",
    "                if self.queue[i].d < self.queue[min_val].d:\n",
    "                    min_val = i\n",
    "            item = self.queue[min_val]\n",
    "            del self.queue[min_val]\n",
    "            return item\n",
    "        except IndexError:\n",
    "            print()\n",
    "            exit()\n",
    "    \n",
    "    def decrease_key(self, v, d):\n",
    "        for i, n in enumerate(self.queue):\n",
    "            if n.name == v.name:\n",
    "                n.d = d           "
   ]
  },
  {
   "cell_type": "markdown",
   "id": "227a028b-e231-4806-b377-36697b00699f",
   "metadata": {},
   "source": [
    "### Algoritmo"
   ]
  },
  {
   "cell_type": "code",
   "execution_count": 9,
   "id": "a333b7b6-3b5f-4ba0-b101-326f5a4bd567",
   "metadata": {},
   "outputs": [],
   "source": [
    "INF = 99999999999\n",
    "\n",
    "class Dijkstra():\n",
    "    def __init__(self, G):\n",
    "        self.G = G\n",
    "        self.E = G.get_list_edges()\n",
    "        \n",
    "    def initialize_single_source(self, s):\n",
    "        \"\"\"Inicialização dos nós com distancias infinitas até a \n",
    "        source e predecessores nulos\"\"\"\n",
    "        \n",
    "        for v in self.G.nodes:\n",
    "            v.d = INF\n",
    "            v.pi = None\n",
    "            \n",
    "        self.G[s].d = 0\n",
    "\n",
    "    def relax(self, u, v, w):\n",
    "        \"\"\"Verifica se o o caminho para o vertice `u` melhora \n",
    "        o caminho minimo encontrado até agora para o vértice `v`.\n",
    "        Se sim, atualiza o valor de `v.d` com o peso até agora, \n",
    "        e adiciona `u` como seu predecessor.\"\"\"\n",
    "        \n",
    "        decreased = False\n",
    "        if self.G[v].d > self.G[u].d + w:\n",
    "            decreased = True if self.G[u].d + w < self.G[v].d else False\n",
    "            self.G[v].d = self.G[u].d + w\n",
    "            self.G[v].pi = self.G[u]\n",
    "            \n",
    "        return decreased\n",
    "        \n",
    "    def dijkstra(self, s):\n",
    "        self.initialize_single_source(s)\n",
    "        \n",
    "        S = set()\n",
    "        Q = PriorityQueue()\n",
    "\n",
    "        for u in self.G.nodes:\n",
    "            Q.insert(u)\n",
    "            \n",
    "        counter = 0\n",
    "        while Q.queue != []:\n",
    "            u = Q.extract_min()\n",
    "            S = S.union({u})\n",
    "            for v, w in u.adj_list:\n",
    "                decreased = self.relax(u.name, v.name, w)\n",
    "                if decreased:\n",
    "                    Q.decrease_key(v, v.d)\n",
    "            \n",
    "\n",
    "        [print(f\"Vertex: {n.name}, shortest_discance_from_source: {n.d}\") for n in S]\n",
    "cal"
   ]
  },
  {
   "cell_type": "code",
   "execution_count": 10,
   "id": "0e87acb7-5f96-4198-858c-85ef25cca6c7",
   "metadata": {
    "tags": []
   },
   "outputs": [
    {
     "name": "stdout",
     "output_type": "stream",
     "text": [
      "Node 0 -> [(1, 3), (3, 7), (4, 8)]\n",
      "Node 1 -> [(0, 3), (2, 1), (3, 4)]\n",
      "Node 2 -> [(1, 1), (3, 2)]\n",
      "Node 3 -> [(0, 7), (1, 4), (2, 2), (4, 3)]\n",
      "Node 4 -> [(0, 8), (3, 3)]\n"
     ]
    }
   ],
   "source": [
    "g = Graph(5)\n",
    "g.add_edge(0, 1, 3)\n",
    "g.add_edge(0, 3, 7)\n",
    "g.add_edge(0, 4, 8)\n",
    "g.add_edge(1, 2, 1)\n",
    "g.add_edge(1, 3, 4)\n",
    "g.add_edge(2, 3, 2)\n",
    "g.add_edge(3, 4, 3)\n",
    "g.print()"
   ]
  },
  {
   "cell_type": "code",
   "execution_count": 5,
   "id": "c470d627-c004-455e-9e36-a99250108b27",
   "metadata": {},
   "outputs": [
    {
     "name": "stdout",
     "output_type": "stream",
     "text": [
      "Vertex: 1, shortest_discance_from_source: 3\n",
      "Vertex: 3, shortest_discance_from_source: 6\n",
      "Vertex: 4, shortest_discance_from_source: 8\n",
      "Vertex: 2, shortest_discance_from_source: 4\n",
      "Vertex: 0, shortest_discance_from_source: 0\n"
     ]
    }
   ],
   "source": [
    "d = Dijkstra(g)\n",
    "d.dijkstra(0)"
   ]
  },
  {
   "cell_type": "code",
   "execution_count": null,
   "id": "b718961b-d3e0-4942-b803-ec53cdb37925",
   "metadata": {},
   "outputs": [],
   "source": []
  },
  {
   "cell_type": "code",
   "execution_count": null,
   "id": "4cb92b75-55c4-4d46-b596-b13541e80932",
   "metadata": {},
   "outputs": [],
   "source": []
  }
 ],
 "metadata": {
  "kernelspec": {
   "display_name": "Python 3 (ipykernel)",
   "language": "python",
   "name": "python3"
  },
  "language_info": {
   "codemirror_mode": {
    "name": "ipython",
    "version": 3
   },
   "file_extension": ".py",
   "mimetype": "text/x-python",
   "name": "python",
   "nbconvert_exporter": "python",
   "pygments_lexer": "ipython3",
   "version": "3.8.5"
  }
 },
 "nbformat": 4,
 "nbformat_minor": 5
}
