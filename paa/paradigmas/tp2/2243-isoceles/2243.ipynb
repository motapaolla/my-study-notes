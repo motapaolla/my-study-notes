{
 "cells": [
  {
   "cell_type": "markdown",
   "id": "1fa6d506",
   "metadata": {},
   "source": [
    "# Isosceles"
   ]
  },
  {
   "cell_type": "markdown",
   "id": "366634ec",
   "metadata": {},
   "source": [
    "input = sequencia de alturas de colunas\n",
    "- primeira linha: inteiro 1 a 50k numero de colunas no muro\n",
    "- segunda linha n inteiros indicando as alturas\n",
    "\n",
    "output = altura maxima do triangulo que pode ter no fim"
   ]
  },
  {
   "cell_type": "code",
   "execution_count": 257,
   "id": "338e07e4",
   "metadata": {
    "execution": {
     "iopub.execute_input": "2022-06-09T17:57:47.286652Z",
     "iopub.status.busy": "2022-06-09T17:57:47.286398Z",
     "iopub.status.idle": "2022-06-09T17:57:47.302124Z",
     "shell.execute_reply": "2022-06-09T17:57:47.301518Z",
     "shell.execute_reply.started": "2022-06-09T17:57:47.286621Z"
    }
   },
   "outputs": [
    {
     "name": "stdout",
     "output_type": "stream",
     "text": [
      "[1, 0, 0, 0, 0]\n",
      "[1]\n",
      "[1, 0]\n",
      "[1, 0, 0]\n",
      "[1, 0]\n",
      "[1]\n",
      "[1]\n",
      "[1, 0, 0]\n",
      "\n",
      "Previous position: -1, Next position: 1\n",
      "Previous position: 0, Next position: 2\n",
      "Alturas:\n",
      " Prev: 5, Meio: 1, Next: 2\n",
      "\n",
      "Previous position: 1, Next position: 3\n",
      "Alturas:\n",
      " Prev: 2, Meio: 2, Next: 3\n",
      "\n",
      "Previous position: 2, Next position: 4\n",
      "Alturas:\n",
      " Prev: 3, Meio: 3, Next: 2\n",
      "\n",
      "Previous position: 3, Next position: 5\n",
      "Alturas:\n",
      " Prev: 2, Meio: 2, Next: 1\n",
      "\n",
      "Previous position: 4, Next position: 6\n",
      "Alturas:\n",
      " Prev: 2, Meio: 1, Next: 1\n",
      "\n",
      "Previous position: 5, Next position: 7\n",
      "Alturas:\n",
      " Prev: 1, Meio: 1, Next: 3\n",
      "\n",
      "Previous position: 6, Next position: 8\n",
      "[1, 0, 0, 0, 0]\n",
      "[1, 1]\n",
      "[1, 1, 1]\n",
      "[1, 1]\n",
      "[1, 0]\n",
      "[1]\n",
      "[1]\n",
      "[1, 0, 0]\n"
     ]
    },
    {
     "data": {
      "text/plain": [
       "[None, None, None, None, None, None, None, None]"
      ]
     },
     "execution_count": 257,
     "metadata": {},
     "output_type": "execute_result"
    }
   ],
   "source": [
    "inpt = \"5 1 2 3 2 1 1 3\"\n",
    "# inpt = \"5 6 3 5 3 2 5\"\n",
    "# inpt = \"5 6 5 8 9 10 5 8 9 5 7 9 9 9 6 3\"\n",
    "\n",
    "inpt = [int(x) for x in inpt.split(' ')]\n",
    "\n",
    "wall = []\n",
    "for idx, i in enumerate(inpt):\n",
    "    wall.append([0]*i)\n",
    "    wall[idx][0] = 1\n",
    "\n",
    "[print(x) for x in wall]\n",
    "print()\n",
    "\n",
    "for i, w in enumerate(wall):\n",
    "    prev_pos = i-1\n",
    "    next_pos = i+1\n",
    "\n",
    "    print(f\"Previous position: {prev_pos}, Next position: {next_pos}\")\n",
    "    if prev_pos >= 0 and next_pos < len(wall):\n",
    "\n",
    "        midh = len(w)  # middle height\n",
    "        prevh = len(wall[prev_pos])  # previous height\n",
    "        nexth = len(wall[next_pos])  # next height\n",
    "        print(f\"Alturas:\\n Prev: {prevh}, Meio: {midh}, Next: {nexth}\")\n",
    "\n",
    "        \n",
    "        # se os valores anterior e posterior tem no minimo a altura do meio - 1\n",
    "        mid_less = midh-1\n",
    "        if prevh >= mid_less and nexth >= mid_less: \n",
    "            # preenche anterior e posterior com 1 até a altura do meio - 1\n",
    "            wall[prev_pos] = [1 if x <= mid_less else 0 for x in range(len(wall[prev_pos])) ]\n",
    "            wall[next_pos] = [1 if x <= mid_less else 0 for x in range(len(wall[next_pos])) ]\n",
    "            \n",
    "            # preenche do meio com 1 até a altura dele\n",
    "            wall[i] = [1 if x <= midh else 0 for x in range(len(wall[next_pos])) ]\n",
    "\n",
    "            if prevh == 1 or nexth == 1:  # caso base\n",
    "                wall[i] = [1 for i, val in enumerate(w)]\n",
    "\n",
    "        else:\n",
    "            midh -= 1\n",
    "            if prevh == midh-1 and nexth == midh+1:\n",
    "                if prevh == 1 or nexth == 1:\n",
    "                    wall[i] = [1]*midh\n",
    "        print()\n",
    "        \n",
    "            \n",
    "[print(x) for x in wall]"
   ]
  },
  {
   "cell_type": "code",
   "execution_count": null,
   "id": "4990f9f0",
   "metadata": {},
   "outputs": [],
   "source": []
  },
  {
   "cell_type": "code",
   "execution_count": 188,
   "id": "50bbb2f9",
   "metadata": {
    "execution": {
     "iopub.execute_input": "2022-06-09T17:08:42.119140Z",
     "iopub.status.busy": "2022-06-09T17:08:42.118874Z",
     "iopub.status.idle": "2022-06-09T17:08:42.125051Z",
     "shell.execute_reply": "2022-06-09T17:08:42.124187Z",
     "shell.execute_reply.started": "2022-06-09T17:08:42.119109Z"
    }
   },
   "outputs": [
    {
     "data": {
      "text/plain": [
       "[0, 0, 0, 0, 0]"
      ]
     },
     "execution_count": 188,
     "metadata": {},
     "output_type": "execute_result"
    }
   ],
   "source": [
    "l = [0]*5\n",
    "l"
   ]
  },
  {
   "cell_type": "code",
   "execution_count": 31,
   "id": "39f4e7fb",
   "metadata": {
    "execution": {
     "iopub.execute_input": "2022-06-09T18:20:39.260326Z",
     "iopub.status.busy": "2022-06-09T18:20:39.260077Z",
     "iopub.status.idle": "2022-06-09T18:20:39.274926Z",
     "shell.execute_reply": "2022-06-09T18:20:39.274194Z",
     "shell.execute_reply.started": "2022-06-09T18:20:39.260302Z"
    }
   },
   "outputs": [
    {
     "name": "stdout",
     "output_type": "stream",
     "text": [
      "[1, 0, 0, 0, 0]\n",
      "[1, 0, 0, 0, 0, 0]\n",
      "[1, 0, 0]\n",
      "[1, 0, 0, 0, 0]\n",
      "[1, 0, 0]\n",
      "[1, 0]\n",
      "[1, 0, 0, 0, 0]\n",
      "\n",
      "Previous position: -1, Current position: 0, Next position: 1\n",
      "Previous position: 0, Current position: 1, Next position: 2\n",
      "Previous position: 1, Current position: 2, Next position: 3\n",
      "Alturas:\n",
      " Prev: 6, Meio: 3, Next: 5\n",
      "\n",
      "Previous position: 2, Current position: 3, Next position: 4\n",
      "Alturas:\n",
      " Prev: 5, Meio: 5, Next: 3\n",
      "\n",
      "[1, 0, 0, 0, 0]\n",
      "[1, 1, 1, 0, 0, 0]\n",
      "[1, 1, 1, 1, 0]\n",
      "[1, 1, 1]\n",
      "[1, 1, 1]\n",
      "[1, 0]\n",
      "[1, 0, 0, 0, 0]\n"
     ]
    },
    {
     "data": {
      "text/plain": [
       "[None, None, None, None, None, None, None]"
      ]
     },
     "execution_count": 31,
     "metadata": {},
     "output_type": "execute_result"
    }
   ],
   "source": [
    "inpt = \"5 1 2 3 2 1 1 3\"\n",
    "inpt = \"5 6 3 5 3 2 5\"\n",
    "# inpt = \"5 6 5 8 9 10 5 8 9 5 7 9 9 9 6 3\"\n",
    "\n",
    "inpt = [int(x) for x in inpt.split(' ')]\n",
    "\n",
    "wall = []\n",
    "for idx, i in enumerate(inpt):\n",
    "    wall.append([0]*i)\n",
    "    wall[idx][0] = 1\n",
    "\n",
    "[print(x) for x in wall]\n",
    "print()\n",
    "\n",
    "def find_isoceles(midh, wall):\n",
    "    mid_less = midh-1\n",
    "    if prevh >= mid_less and nexth >= mid_less: \n",
    "        # preenche anterior e posterior com 1 até a altura do meio - 1\n",
    "        wall[prev_pos] = [1 if x <= mid_less else 0 for x in range(len(wall[prev_pos])) ]\n",
    "        wall[next_pos] = [1 if x <= mid_less else 0 for x in range(len(wall[next_pos])) ]\n",
    "\n",
    "        # preenche do meio com 1 até a altura dele\n",
    "        wall[i] = [1 if x <= midh else 0 for x in range(len(wall[next_pos])) ]\n",
    "\n",
    "        # caso base\n",
    "        if prevh == 1 or nexth == 1:  \n",
    "            wall[i] = [1 for i, val in enumerate(w)]\n",
    "        return '0'\n",
    "    else:\n",
    "        midh -= 1 \n",
    "        midh = find_isoceles(midh, wall)\n",
    "\n",
    "        return midh, wall\n",
    "    \n",
    "\n",
    "for i, w in enumerate(wall):\n",
    "    prev_pos = i-1\n",
    "    next_pos = i+1\n",
    "\n",
    "    print(f\"Previous position: {prev_pos}, Current position: {i}, Next position: {next_pos}\")\n",
    "    if prev_pos >= 1 and next_pos < len(wall):\n",
    "\n",
    "        midh = len(w)  # middle height\n",
    "        prevh = len(wall[prev_pos])  # previous height\n",
    "        nexth = len(wall[next_pos])  # next height\n",
    "        print(f\"Alturas:\\n Prev: {prevh}, Meio: {midh}, Next: {nexth}\")\n",
    "\n",
    "        # se os valores anterior e posterior tem no minimo a altura do meio - 1\n",
    "        midh = find_isoceles(midh, wall)\n",
    "        if midh == '0':\n",
    "            pass\n",
    "        \n",
    "        print()\n",
    "    if i == 3: break\n",
    "            \n",
    "[print(x) for x in wall]"
   ]
  },
  {
   "cell_type": "code",
   "execution_count": 73,
   "id": "8e5ba97e",
   "metadata": {
    "execution": {
     "iopub.execute_input": "2022-06-09T18:30:51.456572Z",
     "iopub.status.busy": "2022-06-09T18:30:51.456326Z",
     "iopub.status.idle": "2022-06-09T18:30:51.463306Z",
     "shell.execute_reply": "2022-06-09T18:30:51.462690Z",
     "shell.execute_reply.started": "2022-06-09T18:30:51.456547Z"
    }
   },
   "outputs": [
    {
     "name": "stdout",
     "output_type": "stream",
     "text": [
      "[1, 0, 0]\n",
      "[1, 0, 0]\n",
      "[1, 0, 0]\n",
      "[1]\n",
      "[1, 0, 0]\n",
      "\n",
      "0 4\n",
      "1 3\n"
     ]
    }
   ],
   "source": [
    "inpt = \"3 3 3 1 3\"\n",
    "# inpt = \"5 1 2 3 2 1 1 3\"\n",
    "# inpt = \"5 6 3 5 3 2 5\"\n",
    "# inpt = \"5 6 5 8 9 10 5 8 9 5 7 9 9 9 6 3\"\n",
    "\n",
    "inpt = [int(x) for x in inpt.split(' ')]\n",
    "\n",
    "wall = []\n",
    "for idx, i in enumerate(inpt):\n",
    "    wall.append([0]*i)\n",
    "    wall[idx][0] = 1\n",
    "\n",
    "[print(x) for x in wall]\n",
    "print()\n",
    "\n",
    "\n",
    "mid_pos = int(len(wall)/2)\n",
    "# midh = len(wall[mid_pos])\n",
    "first_pos = mid_pos-mid_pos\n",
    "last_pos = mid_pos+mid_pos\n",
    "\n",
    "\n",
    "for l, r in zip(range(0, mid_pos), range(last_pos, mid_pos, -1)):\n",
    "    print(left, right)\n",
    "    if l == 0 or r == last_pos:\n",
    "        wall[l][0] = 1\n",
    "        wall[l][last_pos] = 1\n",
    "    if wall[l]\n",
    "    \n",
    "    if first_pos >= 0 and last_pos <= len(wall):\n",
    "        break"
   ]
  },
  {
   "cell_type": "code",
   "execution_count": 75,
   "id": "464eca33",
   "metadata": {
    "execution": {
     "iopub.execute_input": "2022-06-09T18:31:55.999954Z",
     "iopub.status.busy": "2022-06-09T18:31:55.999693Z",
     "iopub.status.idle": "2022-06-09T18:31:56.004860Z",
     "shell.execute_reply": "2022-06-09T18:31:56.004122Z",
     "shell.execute_reply.started": "2022-06-09T18:31:55.999926Z"
    }
   },
   "outputs": [],
   "source": [
    "inpt = \"3 3 3 1 3\"\n",
    "# inpt = \"5 1 2 3 2 1 1 3\"\n",
    "# inpt = \"5 6 3 5 3 2 5\"\n",
    "# inpt = \"5 6 5 8 9 10 5 8 9 5 7 9 9 9 6 3\"\n",
    "\n",
    "inpt = [int(x) for x in inpt.split(' ')]\n",
    "\n",
    "wall = {}\n",
    "for idx, val in enumerate(inpt):\n",
    "    wall[idx] = [0]*val\n",
    "    wall[idx][0] = 1"
   ]
  },
  {
   "cell_type": "code",
   "execution_count": 78,
   "id": "8c5cdcef",
   "metadata": {
    "execution": {
     "iopub.execute_input": "2022-06-09T18:32:37.760478Z",
     "iopub.status.busy": "2022-06-09T18:32:37.760222Z",
     "iopub.status.idle": "2022-06-09T18:32:37.766372Z",
     "shell.execute_reply": "2022-06-09T18:32:37.765358Z",
     "shell.execute_reply.started": "2022-06-09T18:32:37.760448Z"
    }
   },
   "outputs": [
    {
     "name": "stdout",
     "output_type": "stream",
     "text": [
      "0: [1, 0, 0]\n",
      "1: [1, 0, 0]\n",
      "2: [1, 0, 0]\n",
      "3: [1]\n",
      "4: [1, 0, 0]\n"
     ]
    },
    {
     "data": {
      "text/plain": [
       "[None, None, None, None, None]"
      ]
     },
     "execution_count": 78,
     "metadata": {},
     "output_type": "execute_result"
    }
   ],
   "source": [
    "[print(f\"{key}: {val}\") for key, val in wall.items()]"
   ]
  },
  {
   "cell_type": "code",
   "execution_count": 63,
   "id": "a4e76ada",
   "metadata": {
    "execution": {
     "iopub.execute_input": "2022-06-09T18:26:55.292309Z",
     "iopub.status.busy": "2022-06-09T18:26:55.291891Z",
     "iopub.status.idle": "2022-06-09T18:26:55.297535Z",
     "shell.execute_reply": "2022-06-09T18:26:55.296651Z",
     "shell.execute_reply.started": "2022-06-09T18:26:55.292275Z"
    }
   },
   "outputs": [
    {
     "data": {
      "text/plain": [
       "0"
      ]
     },
     "execution_count": 63,
     "metadata": {},
     "output_type": "execute_result"
    }
   ],
   "source": [
    "first_pos"
   ]
  },
  {
   "cell_type": "code",
   "execution_count": 64,
   "id": "a3f7adcc",
   "metadata": {
    "execution": {
     "iopub.execute_input": "2022-06-09T18:26:55.596584Z",
     "iopub.status.busy": "2022-06-09T18:26:55.596130Z",
     "iopub.status.idle": "2022-06-09T18:26:55.605259Z",
     "shell.execute_reply": "2022-06-09T18:26:55.604184Z",
     "shell.execute_reply.started": "2022-06-09T18:26:55.596539Z"
    }
   },
   "outputs": [
    {
     "data": {
      "text/plain": [
       "4"
      ]
     },
     "execution_count": 64,
     "metadata": {},
     "output_type": "execute_result"
    }
   ],
   "source": [
    "last_pos"
   ]
  },
  {
   "cell_type": "code",
   "execution_count": null,
   "id": "3f07e132",
   "metadata": {},
   "outputs": [],
   "source": []
  },
  {
   "cell_type": "code",
   "execution_count": null,
   "id": "8cfaaf92",
   "metadata": {},
   "outputs": [],
   "source": []
  }
 ],
 "metadata": {
  "kernelspec": {
   "display_name": "Python 3 (ipykernel)",
   "language": "python",
   "name": "python3"
  },
  "language_info": {
   "codemirror_mode": {
    "name": "ipython",
    "version": 3
   },
   "file_extension": ".py",
   "mimetype": "text/x-python",
   "name": "python",
   "nbconvert_exporter": "python",
   "pygments_lexer": "ipython3",
   "version": "3.7.12"
  }
 },
 "nbformat": 4,
 "nbformat_minor": 5
}
